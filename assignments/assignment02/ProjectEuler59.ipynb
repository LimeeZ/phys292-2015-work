{
 "cells": [
  {
   "cell_type": "markdown",
   "metadata": {
    "nbgrader": {}
   },
   "source": [
    "# Project Euler: Problem 59"
   ]
  },
  {
   "cell_type": "markdown",
   "metadata": {
    "nbgrader": {}
   },
   "source": [
    "https://projecteuler.net/problem=59\n",
    "\n",
    "Each character on a computer is assigned a unique code and the preferred standard is ASCII (American Standard Code for Information Interchange). For example, uppercase A = 65, asterisk (*) = 42, and lowercase k = 107.\n",
    "\n",
    "A modern encryption method is to take a text file, convert the bytes to ASCII, then XOR each byte with a given value, taken from a secret key. The advantage with the XOR function is that using the same encryption key on the cipher text, restores the plain text; for example, 65 XOR 42 = 107, then 107 XOR 42 = 65.\n",
    "\n",
    "For unbreakable encryption, the key is the same length as the plain text message, and the key is made up of random bytes. The user would keep the encrypted message and the encryption key in different locations, and without both \"halves\", it is impossible to decrypt the message.\n",
    "\n",
    "Unfortunately, this method is impractical for most users, so the modified method is to use a password as a key. If the password is shorter than the message, which is likely, the key is repeated cyclically throughout the message. The balance for this method is using a sufficiently long password key for security, but short enough to be memorable.\n",
    "\n",
    "Your task has been made easy, as the encryption key consists of three lower case characters. Using cipher.txt (in this directory), a file containing the encrypted ASCII codes, and the knowledge that the plain text must contain common English words, decrypt the message and find the sum of the ASCII values in the original text."
   ]
  },
  {
   "cell_type": "markdown",
   "metadata": {
    "nbgrader": {}
   },
   "source": [
    "The following cell shows examples of how to perform XOR in Python and how to go back and forth between characters and integers:"
   ]
  },
  {
   "cell_type": "code",
   "execution_count": null,
   "metadata": {
    "collapsed": true,
    "nbgrader": {}
   },
   "outputs": [],
   "source": [
    "assert 65 ^ 42 == 107\n",
    "assert 107 ^ 42 == 65\n",
    "assert ord('a') == 97\n",
    "assert chr(97) == 'a'"
   ]
  },
  {
   "cell_type": "markdown",
   "metadata": {
    "nbgrader": {}
   },
   "source": [
    "Certain functions in the `itertools` module may be useful for computing permutations:"
   ]
  },
  {
   "cell_type": "code",
   "execution_count": null,
   "metadata": {
    "collapsed": true,
    "nbgrader": {}
   },
   "outputs": [],
   "source": [
    "from itertools"
   ]
  },
  {
   "cell_type": "code",
   "execution_count": 1,
   "metadata": {
    "collapsed": false,
    "deletable": false,
    "nbgrader": {
     "checksum": "6cff4e8e53b15273846c3aecaea84a3d",
     "solution": true
    }
   },
   "outputs": [],
   "source": [
    "#I got help from my Python tutor! He taught me how to do this in Python 2, but then I had to make a number of \n",
    "#changes to convert it to Python 3. \n",
    "\n",
    "code = open('p059_cipher.txt').read().replace('\\n','').split(',')\n",
    "\n",
    "#this loops through all the combination possibilities!!!\n",
    "\n",
    "A = range(97, 123,1)\n",
    "B = A\n",
    "C = B\n",
    "def codebreaker():\n",
    "    for a in A:\n",
    "        for b in B:\n",
    "            for c in C:\n",
    "                decoded = []\n",
    "                passcode = [a,b,c]*(int(len(code)/3))\n",
    "                \n",
    "                #This for loop appends characters that were determined from phrase XOR'ed with encoded.\n",
    "\n",
    "                for phrase,encoded in zip(passcode,code):\n",
    "                    decoded.append(chr(phrase^int(encoded)))\n",
    "                    \n",
    "                    #I am just going to note here that in Python 2, unichr() is the way to get it back into letters...\n",
    "                    # but in Python 3, chr() is... super interesting!\n",
    "                    \n",
    "                decoded = \"\".join(decoded)\n",
    "                \n",
    "                    #decoded must be seperated by nothing since the data came out deliminated with ','... t'was ugly!\n",
    "\n",
    "                if ' the ' in decoded:\n",
    "                    \n",
    "                    #I thought this was interesting: to find the common word of 'the', \n",
    "                    #I had to make sure the spaces were also included... so we're searching for ' the '\n",
    "                    \n",
    "                    print (decoded)\n",
    "                    for char in [a,b,c]:\n",
    "                        print (str(chr(char)))\n",
    "                    return"
   ]
  },
  {
   "cell_type": "code",
   "execution_count": 2,
   "metadata": {
    "collapsed": false
   },
   "outputs": [
    {
     "name": "stdout",
     "output_type": "stream",
     "text": [
      "(The Gospel of John, chapter 1) 1 In the beginning the Word already existed. He was with God, and he was God. 2 He was in the beginning with God. 3 He created everything there is. Nothing exists that he didn't make. 4 Life itself was in him, and this life gives light to everyone. 5 The light shines through the darkness, and the darkness can never extinguish it. 6 God sent John the Baptist 7 to tell everyone about the light so that everyone might believe because of his testimony. 8 John himself was not the light; he was only a witness to the light. 9 The one who is the true light, who gives light to everyone, was going to come into the world. 10 But although the world was made through him, the world didn't recognize him when he came. 11 Even in his own land and among his own people, he was not accepted. 12 But to all who believed him and accepted him, he gave the right to become children of God. 13 They are reborn! This is not a physical birth resulting from human passion or plan, this rebirth comes from God.14 So the Word became human and lived here on earth among us. He was full of unfailing love and faithfulness. And we have seen his glory, the glory of the only Son of the Father\n",
      "g\n",
      "o\n",
      "d\n",
      "None\n"
     ]
    }
   ],
   "source": [
    "a = codebreaker()\n",
    "\n",
    "print (a)\n",
    "\n",
    "#the code is god. Clever."
   ]
  },
  {
   "cell_type": "code",
   "execution_count": 11,
   "metadata": {
    "collapsed": true,
    "deletable": false,
    "nbgrader": {
     "checksum": "dcdf6792a88c661545d3ca651212dba8",
     "grade": true,
     "grade_id": "projecteuler59",
     "points": 10
    }
   },
   "outputs": [],
   "source": [
    "# This cell will be used for grading, leave it at the end of the notebook."
   ]
  },
  {
   "cell_type": "code",
   "execution_count": null,
   "metadata": {
    "collapsed": true
   },
   "outputs": [],
   "source": []
  }
 ],
 "metadata": {
  "kernelspec": {
   "display_name": "Python 3",
   "language": "python",
   "name": "python3"
  },
  "language_info": {
   "codemirror_mode": {
    "name": "ipython",
    "version": 3
   },
   "file_extension": ".py",
   "mimetype": "text/x-python",
   "name": "python",
   "nbconvert_exporter": "python",
   "pygments_lexer": "ipython3",
   "version": "3.4.0"
  }
 },
 "nbformat": 4,
 "nbformat_minor": 0
}
