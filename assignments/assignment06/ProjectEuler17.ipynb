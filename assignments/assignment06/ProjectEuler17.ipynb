{
 "cells": [
  {
   "cell_type": "markdown",
   "metadata": {
    "nbgrader": {}
   },
   "source": [
    "# Project Euler: Problem 17"
   ]
  },
  {
   "cell_type": "markdown",
   "metadata": {
    "nbgrader": {}
   },
   "source": [
    "https://projecteuler.net/problem=17\n",
    "\n",
    "If the numbers 1 to 5 are written out in words: one, two, three, four, five, then there are 3 + 3 + 5 + 4 + 4 = 19 letters used in total.\n",
    "\n",
    "If all the numbers from 1 to 1000 (one thousand) inclusive were written out in words, how many letters would be used?\n",
    "\n",
    "\n",
    "NOTE: Do not count spaces or hyphens. For example, 342 (three hundred and forty-two) contains 23 letters and 115 (one hundred and fifteen) contains 20 letters. The use of \"and\" when writing out numbers is in compliance with British usage."
   ]
  },
  {
   "cell_type": "markdown",
   "metadata": {
    "nbgrader": {}
   },
   "source": [
    "First write a `number_to_words(n)` function that takes an integer `n` between 1 and 1000 inclusive and returns a list of words for the number as described above"
   ]
  },
  {
   "cell_type": "code",
   "execution_count": 72,
   "metadata": {
    "collapsed": true
   },
   "outputs": [],
   "source": [
    "def ones(one,count):\n",
    "    if one == 1 or one == 2 or one == 6:\n",
    "        count += 3 \n",
    "    if one == 4 or one == 5 or one == 9:\n",
    "        count += 4   \n",
    "    if one == 3 or one == 7 or one == 8:\n",
    "        count += 5\n",
    "        \n",
    "    return count\n",
    "\n",
    "def teens(teen,count):\n",
    "    if teen == 10:\n",
    "        count += 3\n",
    "    if teen == 11 or teen == 12:\n",
    "        count += 6\n",
    "    if teen == 15 or teen == 16:\n",
    "        count += 7\n",
    "    if teen == 13 or teen == 14 or teen == 18 or teen == 19:\n",
    "        count += 8\n",
    "    if teen == 17:\n",
    "        count += 9\n",
    "        \n",
    "    return count\n",
    "\n",
    "def tens(ten,count):\n",
    "    b = str(ten)\n",
    "    \n",
    "    if b[0] == '4' or b[0] == '5' or b[0] == '6':\n",
    "        count += 5\n",
    "        one = int(b[1])\n",
    "        count = ones(one,count)\n",
    "    if b[0] == '2' or b[0] == '3' or b[0] == '8' or b[0] == '9' and b[1]:\n",
    "        count += 6\n",
    "        one = int(b[1])\n",
    "        count = ones(one,count)\n",
    "        \n",
    "    if b[0] == '7' and b[1]:\n",
    "        count += 7\n",
    "        one = int(b[1])\n",
    "        count = ones(one,count)\n",
    "        \n",
    "    return count\n",
    "\n",
    "def huns(hun,count):\n",
    "    count += 7\n",
    "    a = str(hun)\n",
    "    b = int(a[0])\n",
    "    count = ones(b,count)\n",
    "    \n",
    "    return count\n",
    "\n",
    "def numberlettercounts(nummin,nummax):\n",
    "    nums = []\n",
    "    for i in range(nummin,nummax+1):\n",
    "        nums.append(i)\n",
    "    \n",
    "    \n",
    "    count = 0\n",
    "    for num in nums:\n",
    "        a = str(num)\n",
    "        if len(a) == 1:\n",
    "            count = ones(num,count)\n",
    "        if len(a) == 2 and a[0] == '1':\n",
    "            count = teens(num,count)\n",
    "        if len(a) == 2 and a[0] != '1':\n",
    "            count = tens(num,count)\n",
    "        if len(a) == 3 and a[1] == '0' and a[2]=='0':\n",
    "            count = huns(num,count)\n",
    "        if len(a) == 3 and a[1] != '0' and a[2] == '0':\n",
    "            count = huns(num,count)\n",
    "            ten = int(a[1:3])\n",
    "            if a[1] == '1':\n",
    "                count = teens(ten,count)\n",
    "                count += 3 #for 'and'\n",
    "            if a[1] != '1':\n",
    "                count = tens(ten,count)\n",
    "                count += 3 #for 'and'\n",
    "        if len(a) == 3 and a[1] != '0' and a[2] != '0':\n",
    "            count = huns(num,count)\n",
    "            ten = int(a[1:3])\n",
    "            if a[1] == '1' :\n",
    "                count = teens(ten,count)\n",
    "                count += 3 #for 'and'\n",
    "            if a[1] != '1' :\n",
    "                count = tens(ten,count)\n",
    "                count += 3 #for 'and'\n",
    "        if len(a) == 3 and a[1] == '0' and a[2] != '0': \n",
    "            count = huns(num,count)\n",
    "            count += 3 #for 'and'\n",
    "            c = int(a[2])\n",
    "            count = ones(c,count)\n",
    "        if len(a) == 4:\n",
    "            count += 11\n",
    "    print (count)"
   ]
  },
  {
   "cell_type": "code",
   "execution_count": 75,
   "metadata": {
    "collapsed": false
   },
   "outputs": [
    {
     "name": "stdout",
     "output_type": "stream",
     "text": [
      "21124\n"
     ]
    }
   ],
   "source": [
    "numberlettercounts(1,1000)"
   ]
  },
  {
   "cell_type": "code",
   "execution_count": 65,
   "metadata": {
    "collapsed": false,
    "nbgrader": {
     "checksum": "790b69a83b63d5a31b5fac1451dd3b54",
     "solution": true
    }
   },
   "outputs": [],
   "source": [
    "def number_to_words(n, join = True):\n",
    "    units = ['','one','two','three','four','five','six','seven','eight','nine']\n",
    "    teens = ['','eleven','twelve','thirteen','fourteen','fifteen','sixteen', \\\n",
    "             'seventeen','eighteen','nineteen']\n",
    "    tens = ['','ten','twenty','thirty','forty','fifty','sixty','seventy', \\\n",
    "            'eighty','ninety']\n",
    "    thousands = ['','thousand']\n",
    "    words = []\n",
    "    if n==0: words.append('zero')\n",
    "    else:\n",
    "        nStr = '%d'%n\n",
    "        nStrLen = len(nStr)\n",
    "        groups = (nStrLen+2)/3\n",
    "        nStr = nStr.zfill(int(groups)*3)\n",
    "        for i in range(0,int(groups)*3,3):\n",
    "            x,y,z = int(nStr[i]),int(nStr[i+1]),int(nStr[i+2])\n",
    "            g = int(groups)-(i/3+1)\n",
    "            if x>=1:\n",
    "                words.append(units[x])\n",
    "                words.append('hundred')\n",
    "            if y>1:\n",
    "                words.append(tens[y])\n",
    "                if z>=1: words.append(units[z])\n",
    "            elif y==1:\n",
    "                if z>=1: words.append(teens[z])\n",
    "                else: words.append(tens[y])\n",
    "            else:\n",
    "                if z>=1: words.append(units[z])\n",
    "                if (int(g)>=1) and ((int(x)+int(y)+int(z))>0): words.append(thousands[int(g)])\n",
    "    if join: return ' '.join(words)\n",
    "    return words"
   ]
  },
  {
   "cell_type": "code",
   "execution_count": 66,
   "metadata": {
    "collapsed": false
   },
   "outputs": [
    {
     "data": {
      "text/plain": [
       "'nine hundred ninety nine'"
      ]
     },
     "execution_count": 66,
     "metadata": {},
     "output_type": "execute_result"
    }
   ],
   "source": [
    "number_to_words(999)"
   ]
  },
  {
   "cell_type": "markdown",
   "metadata": {
    "nbgrader": {}
   },
   "source": [
    "Now write a set of `assert` tests for your `number_to_words` function that verifies that it is working as expected."
   ]
  },
  {
   "cell_type": "code",
   "execution_count": 71,
   "metadata": {
    "collapsed": false,
    "deletable": false,
    "nbgrader": {
     "checksum": "6cff4e8e53b15273846c3aecaea84a3d",
     "solution": true
    }
   },
   "outputs": [],
   "source": [
    "number_to_words(999)\n",
    "expected ='nine hundred ninety nine'\n",
    "number_to_words(0)\n",
    "expected2 ='zero'\n",
    "number_to_words(1000)\n",
    "expected3 ='one thousand'\n",
    "number_to_words(5)\n",
    "expected4 ='five'\n",
    "assert (number_to_words(999) == expected)\n",
    "assert (number_to_words(0) == expected2)\n",
    "assert (number_to_words(1000) == expected3)\n",
    "assert (number_to_words(5) == expected4)"
   ]
  },
  {
   "cell_type": "code",
   "execution_count": 68,
   "metadata": {
    "collapsed": true,
    "deletable": false,
    "nbgrader": {
     "checksum": "2c71c0f9dbe2a57b1ddc17bf544d86ed",
     "grade": true,
     "grade_id": "projecteuler17a",
     "points": 4
    }
   },
   "outputs": [],
   "source": [
    "assert True # use this for grading the number_to_words tests."
   ]
  },
  {
   "cell_type": "markdown",
   "metadata": {
    "nbgrader": {}
   },
   "source": [
    "Now define a `count_letters(n)` that returns the number of letters used to write out the words for all of the the numbers `1` to `n` inclusive."
   ]
  },
  {
   "cell_type": "code",
   "execution_count": null,
   "metadata": {
    "collapsed": true
   },
   "outputs": [],
   "source": [
    "def ones(one,count):\n",
    "    if one == 1 or one == 2 or one == 6:\n",
    "        count += 3 \n",
    "    if one == 4 or one == 5 or one == 9:\n",
    "        count += 4   \n",
    "    if one == 3 or one == 7 or one == 8:\n",
    "        count += 5\n",
    "        \n",
    "    return count\n",
    "\n",
    "def teens(teen,count):\n",
    "    if teen == 10:\n",
    "        count += 3\n",
    "    if teen == 11 or teen == 12:\n",
    "        count += 6\n",
    "    if teen == 15 or teen == 16:\n",
    "        count += 7\n",
    "    if teen == 13 or teen == 14 or teen == 18 or teen == 19:\n",
    "        count += 8\n",
    "    if teen == 17:\n",
    "        count += 9\n",
    "        \n",
    "    return count\n",
    "\n",
    "def tens(ten,count):\n",
    "    b = str(ten)\n",
    "    \n",
    "    if b[0] == '4' or b[0] == '5' or b[0] == '6':\n",
    "        count += 5\n",
    "        one = int(b[1])\n",
    "        count = ones(one,count)\n",
    "    if b[0] == '2' or b[0] == '3' or b[0] == '8' or b[0] == '9' and b[1]:\n",
    "        count += 6\n",
    "        one = int(b[1])\n",
    "        count = ones(one,count)\n",
    "        \n",
    "    if b[0] == '7' and b[1]:\n",
    "        count += 7\n",
    "        one = int(b[1])\n",
    "        count = ones(one,count)\n",
    "        \n",
    "    return count\n",
    "\n",
    "def huns(hun,count):\n",
    "    count += 7\n",
    "    a = str(hun)\n",
    "    b = int(a[0])\n",
    "    count = ones(b,count)\n",
    "    \n",
    "    return count"
   ]
  },
  {
   "cell_type": "code",
   "execution_count": 85,
   "metadata": {
    "collapsed": true,
    "nbgrader": {
     "checksum": "be228a805b41eda2b30887a53523f76b",
     "solution": true
    }
   },
   "outputs": [],
   "source": [
    "#def count_letters(n): <--I didn't use this...\n",
    "def count_letters(nummin,nummax):\n",
    "    nums = []\n",
    "    for i in range(nummin,nummax+1):\n",
    "        nums.append(i)\n",
    "    \n",
    "    \n",
    "    count = 0\n",
    "    for num in nums:\n",
    "        a = str(num)\n",
    "        if len(a) == 1:\n",
    "            count = ones(num,count)\n",
    "        if len(a) == 2 and a[0] == '1':\n",
    "            count = teens(num,count)\n",
    "        if len(a) == 2 and a[0] != '1':\n",
    "            count = tens(num,count)\n",
    "        if len(a) == 3 and a[1] == '0' and a[2]=='0':\n",
    "            count = huns(num,count)\n",
    "        if len(a) == 3 and a[1] != '0' and a[2] == '0':\n",
    "            count = huns(num,count)\n",
    "            ten = int(a[1:3])\n",
    "            if a[1] == '1':\n",
    "                count = teens(ten,count)\n",
    "                count += 3 #for 'and'\n",
    "            if a[1] != '1':\n",
    "                count = tens(ten,count)\n",
    "                count += 3 #for 'and'\n",
    "        if len(a) == 3 and a[1] != '0' and a[2] != '0':\n",
    "            count = huns(num,count)\n",
    "            ten = int(a[1:3])\n",
    "            if a[1] == '1' :\n",
    "                count = teens(ten,count)\n",
    "                count += 3 #for 'and'\n",
    "            if a[1] != '1' :\n",
    "                count = tens(ten,count)\n",
    "                count += 3 #for 'and'\n",
    "        if len(a) == 3 and a[1] == '0' and a[2] != '0': \n",
    "            count = huns(num,count)\n",
    "            count += 3 #for 'and'\n",
    "            c = int(a[2])\n",
    "            count = ones(c,count)\n",
    "        if len(a) == 4:\n",
    "            count += 11\n",
    "    return (count)"
   ]
  },
  {
   "cell_type": "code",
   "execution_count": 90,
   "metadata": {
    "collapsed": false
   },
   "outputs": [
    {
     "data": {
      "text/plain": [
       "6117"
      ]
     },
     "execution_count": 90,
     "metadata": {},
     "output_type": "execute_result"
    }
   ],
   "source": [
    "count_letters(0,342)"
   ]
  },
  {
   "cell_type": "markdown",
   "metadata": {
    "nbgrader": {}
   },
   "source": [
    "Now write a set of `assert` tests for your `count_letters` function that verifies that it is working as expected."
   ]
  },
  {
   "cell_type": "code",
   "execution_count": 91,
   "metadata": {
    "collapsed": false,
    "deletable": false,
    "nbgrader": {
     "checksum": "6cff4e8e53b15273846c3aecaea84a3d",
     "solution": true
    }
   },
   "outputs": [],
   "source": [
    "expected1=3\n",
    "assert(count_letters(0,1) == expected1)\n"
   ]
  },
  {
   "cell_type": "code",
   "execution_count": null,
   "metadata": {
    "collapsed": true,
    "deletable": false,
    "nbgrader": {
     "checksum": "3a06c9610681f0174008f2976e310e0a",
     "grade": true,
     "grade_id": "projecteuler17b",
     "points": 4
    }
   },
   "outputs": [],
   "source": [
    "assert True # use this for grading the count_letters tests."
   ]
  },
  {
   "cell_type": "markdown",
   "metadata": {
    "nbgrader": {}
   },
   "source": [
    "Finally used your `count_letters` function to solve the original question."
   ]
  },
  {
   "cell_type": "code",
   "execution_count": 92,
   "metadata": {
    "collapsed": false,
    "deletable": false,
    "nbgrader": {
     "checksum": "6cff4e8e53b15273846c3aecaea84a3d",
     "solution": true
    }
   },
   "outputs": [
    {
     "data": {
      "text/plain": [
       "21124"
      ]
     },
     "execution_count": 92,
     "metadata": {},
     "output_type": "execute_result"
    }
   ],
   "source": [
    "count_letters(1,1000)"
   ]
  },
  {
   "cell_type": "code",
   "execution_count": null,
   "metadata": {
    "collapsed": true,
    "deletable": false,
    "nbgrader": {
     "checksum": "a136658e13c4f1154caf307a2e852f99",
     "grade": true,
     "grade_id": "projecteuler17c",
     "points": 2
    }
   },
   "outputs": [],
   "source": [
    "assert True # use this for gradig the answer to the original question."
   ]
  }
 ],
 "metadata": {
  "kernelspec": {
   "display_name": "Python 3",
   "language": "python",
   "name": "python3"
  },
  "language_info": {
   "codemirror_mode": {
    "name": "ipython",
    "version": 3
   },
   "file_extension": ".py",
   "mimetype": "text/x-python",
   "name": "python",
   "nbconvert_exporter": "python",
   "pygments_lexer": "ipython3",
   "version": "3.4.0"
  }
 },
 "nbformat": 4,
 "nbformat_minor": 0
}
