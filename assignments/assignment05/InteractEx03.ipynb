{
 "cells": [
  {
   "cell_type": "markdown",
   "metadata": {
    "nbgrader": {}
   },
   "source": [
    "# Interact Exercise 3"
   ]
  },
  {
   "cell_type": "markdown",
   "metadata": {
    "nbgrader": {}
   },
   "source": [
    "## Imports"
   ]
  },
  {
   "cell_type": "code",
   "execution_count": 14,
   "metadata": {
    "collapsed": true,
    "nbgrader": {}
   },
   "outputs": [],
   "source": [
    "%matplotlib inline\n",
    "from matplotlib import pyplot as plt\n",
    "import numpy as np"
   ]
  },
  {
   "cell_type": "code",
   "execution_count": 15,
   "metadata": {
    "collapsed": false,
    "nbgrader": {}
   },
   "outputs": [],
   "source": [
    "from IPython.html.widgets import interact, interactive, fixed\n",
    "from IPython.display import display"
   ]
  },
  {
   "cell_type": "markdown",
   "metadata": {
    "nbgrader": {}
   },
   "source": [
    "# Using interact for animation with data"
   ]
  },
  {
   "cell_type": "markdown",
   "metadata": {
    "nbgrader": {}
   },
   "source": [
    "A [*soliton*](http://en.wikipedia.org/wiki/Soliton) is a constant velocity wave that maintains its shape as it propagates. They arise from non-linear wave equations, such has the [Korteweg–de Vries](http://en.wikipedia.org/wiki/Korteweg%E2%80%93de_Vries_equation) equation, which has the following analytical solution:\n",
    "\n",
    "$$\n",
    "\\phi(x,t) = \\frac{1}{2} c \\mathrm{sech}^2 \\left[ \\frac{\\sqrt{c}}{2} \\left(x - ct - a \\right) \\right]\n",
    "$$\n",
    "\n",
    "The constant `c` is the velocity and the constant `a` is the initial location of the soliton.\n",
    "\n",
    "Define `soliton(x, t, c, a)` function that computes the value of the soliton wave for the given arguments. Your function should work when the postion `x` *or* `t` are NumPy arrays, in which case it should return a NumPy array itself."
   ]
  },
  {
   "cell_type": "code",
   "execution_count": 16,
   "metadata": {
    "collapsed": false,
    "nbgrader": {
     "checksum": "b95685e8808cf7e99f918ab07c87c11a",
     "solution": true
    }
   },
   "outputs": [],
   "source": [
    "def soliton(x, t, c, a):\n",
    "    #\"\"\"Return phi(x, t) for a soliton wave with constants c and a.\"\"\"\n",
    "    u = 0.5*c*(np.cosh((0.5*np.sqrt(c)*(x-c*t-a))))**-2\n",
    "    return u"
   ]
  },
  {
   "cell_type": "code",
   "execution_count": 17,
   "metadata": {
    "collapsed": false,
    "deletable": false,
    "nbgrader": {
     "checksum": "bcd15232a87c4354cbc68dcca28654ee",
     "grade": true,
     "grade_id": "interactex03a",
     "points": 2
    }
   },
   "outputs": [],
   "source": [
    "assert np.allclose(soliton(np.array([0]),0.0,1.0,0.0), np.array([0.5]))"
   ]
  },
  {
   "cell_type": "markdown",
   "metadata": {
    "nbgrader": {}
   },
   "source": [
    "To create an animation of a soliton propagating in time, we are going to precompute the soliton data and store it in a 2d array. To set this up, we create the following variables and arrays:"
   ]
  },
  {
   "cell_type": "code",
   "execution_count": 18,
   "metadata": {
    "collapsed": true,
    "nbgrader": {}
   },
   "outputs": [],
   "source": [
    "tmin = 0.0\n",
    "tmax = 10.0\n",
    "tpoints = 100\n",
    "t = np.linspace(tmin, tmax, tpoints)\n",
    "\n",
    "xmin = 0.0\n",
    "xmax = 10.0\n",
    "xpoints = 200\n",
    "x = np.linspace(xmin, xmax, xpoints)\n",
    "\n",
    "c = 1.0\n",
    "a = 0.0"
   ]
  },
  {
   "cell_type": "markdown",
   "metadata": {
    "nbgrader": {}
   },
   "source": [
    "Compute a 2d NumPy array called `phi`:\n",
    "\n",
    "* It should have a dtype of `float`.\n",
    "* It should have a shape of `(xpoints, tpoints)`.\n",
    "* `phi[i,j]` should contain the value $\\phi(x[i],t[j])$."
   ]
  },
  {
   "cell_type": "code",
   "execution_count": 19,
   "metadata": {
    "collapsed": false,
    "deletable": false,
    "nbgrader": {
     "checksum": "6cff4e8e53b15273846c3aecaea84a3d",
     "solution": true
    }
   },
   "outputs": [],
   "source": [
    "phi = np.zeros((xpoints, tpoints))\n",
    "for i in range(xpoints):\n",
    "    phi[i,:] = soliton(x[i], t, c, a)\n",
    "            "
   ]
  },
  {
   "cell_type": "code",
   "execution_count": 20,
   "metadata": {
    "collapsed": true
   },
   "outputs": [],
   "source": [
    "#Another way:\n",
    "#phi = np.empty((xpoints, tpoints))"
   ]
  },
  {
   "cell_type": "code",
   "execution_count": 21,
   "metadata": {
    "collapsed": false,
    "deletable": false,
    "nbgrader": {
     "checksum": "90baf1a97272cee6f5554e0104b50f47",
     "grade": true,
     "grade_id": "interactex03b",
     "points": 4
    }
   },
   "outputs": [],
   "source": [
    "assert phi.shape==(xpoints, tpoints)\n",
    "assert phi.ndim==2\n",
    "assert phi.dtype==np.dtype(float)\n",
    "assert phi[0,0]==soliton(x[0],t[0],c,a)"
   ]
  },
  {
   "cell_type": "markdown",
   "metadata": {
    "nbgrader": {}
   },
   "source": [
    "Write a `plot_soliton_data(i)` function that plots the soliton wave $\\phi(x, t[i])$. Customize your plot to make it effective and beautiful."
   ]
  },
  {
   "cell_type": "code",
   "execution_count": 22,
   "metadata": {
    "collapsed": false,
    "nbgrader": {
     "checksum": "d857aa7adb31b1de9c4d53a7febb18d3",
     "solution": true
    }
   },
   "outputs": [],
   "source": [
    "def plot_soliton_data(i=0):\n",
    "    \"\"\"Plot the soliton data at t[i] versus x.\"\"\"\n",
    "    plt.plot(x, phi[:,i])\n",
    "    plt.xlabel('x')\n",
    "    plt.ylabel('Phi (x,t)')\n",
    "    plt.grid(True)\n",
    "    plt.title('The Awesome Soliton Wave')\n"
   ]
  },
  {
   "cell_type": "code",
   "execution_count": 23,
   "metadata": {
    "collapsed": false,
    "nbgrader": {}
   },
   "outputs": [
    {
     "data": {
      "image/png": "[encoded data removed]",
      "text/plain": [
       "<matplotlib.figure.Figure at 0x7f3ab261cdd8>"
      ]
     },
     "metadata": {},
     "output_type": "display_data"
    }
   ],
   "source": [
    "plot_soliton_data(0)"
   ]
  },
  {
   "cell_type": "code",
   "execution_count": 24,
   "metadata": {
    "collapsed": true,
    "deletable": false,
    "nbgrader": {
     "checksum": "a76632040b08c7c76c889e67ee93deb0",
     "grade": true,
     "grade_id": "interactex03c",
     "points": 2
    }
   },
   "outputs": [],
   "source": [
    "assert True # leave this for grading the plot_soliton_data function"
   ]
  },
  {
   "cell_type": "markdown",
   "metadata": {
    "nbgrader": {}
   },
   "source": [
    "Use `interact` to animate the `plot_soliton_data` function versus time."
   ]
  },
  {
   "cell_type": "code",
   "execution_count": 25,
   "metadata": {
    "collapsed": false,
    "deletable": false,
    "nbgrader": {
     "checksum": "6cff4e8e53b15273846c3aecaea84a3d",
     "solution": true
    }
   },
   "outputs": [
    {
     "data": {
      "image/png": "[encoded data removed]",
      "text/plain": [
       "<matplotlib.figure.Figure at 0x7f3ab2384d30>"
      ]
     },
     "metadata": {},
     "output_type": "display_data"
    }
   ],
   "source": [
    "interact(plot_soliton_data, i = (0, tpoints-1)); # I got help during class yaaaay\n"
   ]
  },
  {
   "cell_type": "code",
   "execution_count": 18,
   "metadata": {
    "collapsed": true,
    "deletable": false,
    "nbgrader": {
     "checksum": "ef5ed9fcab6418650cdf556757a4486a",
     "grade": true,
     "grade_id": "interactex03d",
     "points": 2
    }
   },
   "outputs": [],
   "source": [
    "assert True # leave this for grading the interact with plot_soliton_data cell"
   ]
  }
 ],
 "metadata": {
  "kernelspec": {
   "display_name": "Python 3",
   "language": "python",
   "name": "python3"
  },
  "language_info": {
   "codemirror_mode": {
    "name": "ipython",
    "version": 3
   },
   "file_extension": ".py",
   "mimetype": "text/x-python",
   "name": "python",
   "nbconvert_exporter": "python",
   "pygments_lexer": "ipython3",
   "version": "3.4.0"
  }
 },
 "nbformat": 4,
 "nbformat_minor": 0
}
