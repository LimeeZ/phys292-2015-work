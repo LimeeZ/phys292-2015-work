{
 "cells": [
  {
   "cell_type": "code",
   "execution_count": 61,
   "metadata": {
    "collapsed": false
   },
   "outputs": [],
   "source": [
    "%matplotlib inline\n",
    "from matplotlib import pyplot as plt\n",
    "import seaborn as sns"
   ]
  },
  {
   "cell_type": "code",
   "execution_count": 62,
   "metadata": {
    "collapsed": false
   },
   "outputs": [],
   "source": [
    "import antipackage\n",
    "from github.ellisonbg.misc import vizarray as va"
   ]
  },
  {
   "cell_type": "code",
   "execution_count": 63,
   "metadata": {
    "collapsed": true
   },
   "outputs": [],
   "source": [
    "import numpy as np"
   ]
  },
  {
   "cell_type": "code",
   "execution_count": 104,
   "metadata": {
    "collapsed": false
   },
   "outputs": [],
   "source": [
    "data = [0,2,4,6]\n",
    "a = np.array(data)"
   ]
  },
  {
   "cell_type": "code",
   "execution_count": 105,
   "metadata": {
    "collapsed": false
   },
   "outputs": [
    {
     "data": {
      "text/plain": [
       "numpy.ndarray"
      ]
     },
     "execution_count": 105,
     "metadata": {},
     "output_type": "execute_result"
    }
   ],
   "source": [
    "type(a)"
   ]
  },
  {
   "cell_type": "code",
   "execution_count": 106,
   "metadata": {
    "collapsed": false
   },
   "outputs": [
    {
     "data": {
      "text/plain": [
       "array([0, 2, 4, 6])"
      ]
     },
     "execution_count": 106,
     "metadata": {},
     "output_type": "execute_result"
    }
   ],
   "source": [
    "a"
   ]
  },
  {
   "cell_type": "code",
   "execution_count": 107,
   "metadata": {
    "collapsed": false
   },
   "outputs": [
    {
     "data": {
      "text/html": [
       "<style type=\"text/css\">table.blockgrid {border: none;} .blockgrid tr {border: none;} .blockgrid td {padding: 0px;} #blocks8bb3e663-ec21-4bcb-bd2c-6f66571cbd00 td {border: 1px solid white;}</style><table id=\"blocks8bb3e663-ec21-4bcb-bd2c-6f66571cbd00\" class=\"blockgrid\"><tbody><tr><td title=\"Index: [0, 0]&#10;Color: (247, 251, 255)\" style=\"width: 30px; height: 30px;background-color: rgb(247, 251, 255);\"></td><td title=\"Index: [0, 1]&#10;Color: (171, 208, 230)\" style=\"width: 30px; height: 30px;background-color: rgb(171, 208, 230);\"></td><td title=\"Index: [0, 2]&#10;Color: (55, 135, 192)\" style=\"width: 30px; height: 30px;background-color: rgb(55, 135, 192);\"></td><td title=\"Index: [0, 3]&#10;Color: (8, 48, 107)\" style=\"width: 30px; height: 30px;background-color: rgb(8, 48, 107);\"></td></tr></tbody></table>"
      ],
      "text/plain": [
       "<ipythonblocks.ipythonblocks.BlockGrid at 0x7f1932819b90>"
      ]
     },
     "execution_count": 107,
     "metadata": {},
     "output_type": "execute_result"
    }
   ],
   "source": [
    "va.vizarray(a)"
   ]
  },
  {
   "cell_type": "code",
   "execution_count": 108,
   "metadata": {
    "collapsed": false
   },
   "outputs": [
    {
     "data": {
      "text/plain": [
       "(4,)"
      ]
     },
     "execution_count": 108,
     "metadata": {},
     "output_type": "execute_result"
    }
   ],
   "source": [
    "a.shape"
   ]
  },
  {
   "cell_type": "code",
   "execution_count": 109,
   "metadata": {
    "collapsed": false
   },
   "outputs": [
    {
     "data": {
      "text/plain": [
       "1"
      ]
     },
     "execution_count": 109,
     "metadata": {},
     "output_type": "execute_result"
    }
   ],
   "source": [
    "a.ndim"
   ]
  },
  {
   "cell_type": "code",
   "execution_count": 110,
   "metadata": {
    "collapsed": false
   },
   "outputs": [
    {
     "data": {
      "text/plain": [
       "4"
      ]
     },
     "execution_count": 110,
     "metadata": {},
     "output_type": "execute_result"
    }
   ],
   "source": [
    "a.size"
   ]
  },
  {
   "cell_type": "code",
   "execution_count": 111,
   "metadata": {
    "collapsed": false
   },
   "outputs": [
    {
     "data": {
      "text/plain": [
       "32"
      ]
     },
     "execution_count": 111,
     "metadata": {},
     "output_type": "execute_result"
    }
   ],
   "source": [
    "a.nbytes"
   ]
  },
  {
   "cell_type": "code",
   "execution_count": 112,
   "metadata": {
    "collapsed": false
   },
   "outputs": [
    {
     "data": {
      "text/plain": [
       "dtype('int64')"
      ]
     },
     "execution_count": 112,
     "metadata": {},
     "output_type": "execute_result"
    }
   ],
   "source": [
    "a.dtype"
   ]
  },
  {
   "cell_type": "code",
   "execution_count": 113,
   "metadata": {
    "collapsed": false
   },
   "outputs": [],
   "source": [
    "data = [[0.0,2.0,4.0,6.0], [1.0,3.0,5.0,7.0]]\n",
    "b = np.array(data)"
   ]
  },
  {
   "cell_type": "code",
   "execution_count": 114,
   "metadata": {
    "collapsed": false
   },
   "outputs": [
    {
     "data": {
      "text/plain": [
       "array([[ 0.,  2.,  4.,  6.],\n",
       "       [ 1.,  3.,  5.,  7.]])"
      ]
     },
     "execution_count": 114,
     "metadata": {},
     "output_type": "execute_result"
    }
   ],
   "source": [
    "b"
   ]
  },
  {
   "cell_type": "code",
   "execution_count": 115,
   "metadata": {
    "collapsed": false
   },
   "outputs": [
    {
     "ename": "AttributeError",
     "evalue": "'module' object has no attribute 'vazarray'",
     "output_type": "error",
     "traceback": [
      "\u001b[1;31m---------------------------------------------------------------------------\u001b[0m",
      "\u001b[1;31mAttributeError\u001b[0m                            Traceback (most recent call last)",
      "\u001b[1;32m<ipython-input-115-77128b7746d7>\u001b[0m in \u001b[0;36m<module>\u001b[1;34m()\u001b[0m\n\u001b[1;32m----> 1\u001b[1;33m \u001b[0mva\u001b[0m\u001b[1;33m.\u001b[0m\u001b[0mvazarray\u001b[0m\u001b[1;33m(\u001b[0m\u001b[0mb\u001b[0m\u001b[1;33m)\u001b[0m\u001b[1;33m\u001b[0m\u001b[0m\n\u001b[0m",
      "\u001b[1;31mAttributeError\u001b[0m: 'module' object has no attribute 'vazarray'"
     ]
    }
   ],
   "source": [
    "va.vazarray(b)"
   ]
  },
  {
   "cell_type": "code",
   "execution_count": 116,
   "metadata": {
    "collapsed": false
   },
   "outputs": [
    {
     "data": {
      "text/plain": [
       "((2, 4), 2, 8, 64)"
      ]
     },
     "execution_count": 116,
     "metadata": {},
     "output_type": "execute_result"
    }
   ],
   "source": [
    "b.shape, b.ndim, b.size, b.nbytes "
   ]
  },
  {
   "cell_type": "code",
   "execution_count": 117,
   "metadata": {
    "collapsed": false
   },
   "outputs": [
    {
     "data": {
      "text/plain": [
       "array([ 0.,  1.,  2.,  3.,  4.,  5.,  6.,  7.,  8.,  9.])"
      ]
     },
     "execution_count": 117,
     "metadata": {},
     "output_type": "execute_result"
    }
   ],
   "source": [
    "c = np.arange(0.0,10.0,1.0)\n",
    "c"
   ]
  },
  {
   "cell_type": "code",
   "execution_count": 118,
   "metadata": {
    "collapsed": false
   },
   "outputs": [
    {
     "data": {
      "text/plain": [
       "array([ 0. ,  0.5,  1. ,  1.5,  2. ,  2.5,  3. ,  3.5,  4. ,  4.5,  5. ])"
      ]
     },
     "execution_count": 118,
     "metadata": {},
     "output_type": "execute_result"
    }
   ],
   "source": [
    "e = np.linspace(0.0, 5.0, 11)\n",
    "e"
   ]
  },
  {
   "cell_type": "code",
   "execution_count": 119,
   "metadata": {
    "collapsed": false
   },
   "outputs": [
    {
     "data": {
      "text/plain": [
       "array([[ 0.,  0.,  0.,  0.],\n",
       "       [ 0.,  0.,  0.,  0.],\n",
       "       [ 0.,  0.,  0.,  0.],\n",
       "       [ 0.,  0.,  0.,  0.]])"
      ]
     },
     "execution_count": 119,
     "metadata": {},
     "output_type": "execute_result"
    }
   ],
   "source": [
    "np.empty((4,4))"
   ]
  },
  {
   "cell_type": "code",
   "execution_count": 120,
   "metadata": {
    "collapsed": false
   },
   "outputs": [
    {
     "data": {
      "text/plain": [
       "array([[ 0.,  0.,  0.],\n",
       "       [ 0.,  0.,  0.],\n",
       "       [ 0.,  0.,  0.]])"
      ]
     },
     "execution_count": 120,
     "metadata": {},
     "output_type": "execute_result"
    }
   ],
   "source": [
    "np.zeros((3,3))"
   ]
  },
  {
   "cell_type": "code",
   "execution_count": 121,
   "metadata": {
    "collapsed": false
   },
   "outputs": [
    {
     "data": {
      "text/plain": [
       "array([[ 1.,  1.,  1.],\n",
       "       [ 1.,  1.,  1.],\n",
       "       [ 1.,  1.,  1.]])"
      ]
     },
     "execution_count": 121,
     "metadata": {},
     "output_type": "execute_result"
    }
   ],
   "source": [
    "np.ones((3,3))"
   ]
  },
  {
   "cell_type": "code",
   "execution_count": 122,
   "metadata": {
    "collapsed": false
   },
   "outputs": [
    {
     "data": {
      "text/plain": [
       "array([0, 0])"
      ]
     },
     "execution_count": 122,
     "metadata": {},
     "output_type": "execute_result"
    }
   ],
   "source": [
    "np.empty_like((3,3))"
   ]
  },
  {
   "cell_type": "code",
   "execution_count": 123,
   "metadata": {
    "collapsed": false
   },
   "outputs": [],
   "source": [
    "a = np.array([0,1,2,3])"
   ]
  },
  {
   "cell_type": "code",
   "execution_count": 124,
   "metadata": {
    "collapsed": false
   },
   "outputs": [
    {
     "data": {
      "text/plain": [
       "(array([0, 1, 2, 3]), dtype('int64'))"
      ]
     },
     "execution_count": 124,
     "metadata": {},
     "output_type": "execute_result"
    }
   ],
   "source": [
    "a, a.dtype"
   ]
  },
  {
   "cell_type": "code",
   "execution_count": 125,
   "metadata": {
    "collapsed": false
   },
   "outputs": [
    {
     "data": {
      "text/plain": [
       "array([[ 0.+0.j,  0.+0.j],\n",
       "       [ 0.+0.j,  0.+0.j]], dtype=complex64)"
      ]
     },
     "execution_count": 125,
     "metadata": {},
     "output_type": "execute_result"
    }
   ],
   "source": [
    "b = np.zeros((2,2), dtype = np.complex64)\n",
    "b"
   ]
  },
  {
   "cell_type": "code",
   "execution_count": 144,
   "metadata": {
    "collapsed": false
   },
   "outputs": [
    {
     "data": {
      "text/plain": [
       "array([ 0.,  2.,  4.,  6.,  8.])"
      ]
     },
     "execution_count": 144,
     "metadata": {},
     "output_type": "execute_result"
    }
   ],
   "source": [
    "c = np.arange(0, 10, 2, dtype=np.float)\n",
    "c"
   ]
  },
  {
   "cell_type": "code",
   "execution_count": 145,
   "metadata": {
    "collapsed": true
   },
   "outputs": [],
   "source": [
    "d = c.astype(dtype=np.int)"
   ]
  },
  {
   "cell_type": "code",
   "execution_count": 146,
   "metadata": {
    "collapsed": false
   },
   "outputs": [
    {
     "data": {
      "text/plain": [
       "array([0, 2, 4, 6, 8])"
      ]
     },
     "execution_count": 146,
     "metadata": {},
     "output_type": "execute_result"
    }
   ],
   "source": [
    "d"
   ]
  },
  {
   "cell_type": "code",
   "execution_count": 162,
   "metadata": {
    "collapsed": false
   },
   "outputs": [
    {
     "data": {
      "text/plain": [
       "float"
      ]
     },
     "execution_count": 162,
     "metadata": {},
     "output_type": "execute_result"
    }
   ],
   "source": [
    "np.float"
   ]
  },
  {
   "cell_type": "code",
   "execution_count": 163,
   "metadata": {
    "collapsed": false
   },
   "outputs": [
    {
     "data": {
      "text/plain": [
       "array([[ 0.1,  0.1,  0.1],\n",
       "       [ 0.1,  0.1,  0.1],\n",
       "       [ 0.1,  0.1,  0.1]])"
      ]
     },
     "execution_count": 163,
     "metadata": {},
     "output_type": "execute_result"
    }
   ],
   "source": [
    "a = np.empty((3,3))\n",
    "a.fill(0.1)\n",
    "a"
   ]
  },
  {
   "cell_type": "code",
   "execution_count": 164,
   "metadata": {
    "collapsed": false
   },
   "outputs": [
    {
     "data": {
      "text/plain": [
       "array([[ 1.,  1.,  1.],\n",
       "       [ 1.,  1.,  1.],\n",
       "       [ 1.,  1.,  1.]])"
      ]
     },
     "execution_count": 164,
     "metadata": {},
     "output_type": "execute_result"
    }
   ],
   "source": [
    "b = np.ones((3,3))\n",
    "b"
   ]
  },
  {
   "cell_type": "code",
   "execution_count": 165,
   "metadata": {
    "collapsed": false
   },
   "outputs": [
    {
     "data": {
      "text/plain": [
       "array([[ 1.1,  1.1,  1.1],\n",
       "       [ 1.1,  1.1,  1.1],\n",
       "       [ 1.1,  1.1,  1.1]])"
      ]
     },
     "execution_count": 165,
     "metadata": {},
     "output_type": "execute_result"
    }
   ],
   "source": [
    "a + b"
   ]
  },
  {
   "cell_type": "code",
   "execution_count": 151,
   "metadata": {
    "collapsed": false
   },
   "outputs": [
    {
     "data": {
      "text/plain": [
       "array([[ 10.,  10.,  10.],\n",
       "       [ 10.,  10.,  10.],\n",
       "       [ 10.,  10.,  10.]])"
      ]
     },
     "execution_count": 151,
     "metadata": {},
     "output_type": "execute_result"
    }
   ],
   "source": [
    "b/a"
   ]
  },
  {
   "cell_type": "code",
   "execution_count": 152,
   "metadata": {
    "collapsed": false
   },
   "outputs": [
    {
     "data": {
      "text/plain": [
       "array([[ 0.1,  0.1,  0.1],\n",
       "       [ 0.1,  0.1,  0.1],\n",
       "       [ 0.1,  0.1,  0.1]])"
      ]
     },
     "execution_count": 152,
     "metadata": {},
     "output_type": "execute_result"
    }
   ],
   "source": [
    "a/b"
   ]
  },
  {
   "cell_type": "code",
   "execution_count": 153,
   "metadata": {
    "collapsed": false
   },
   "outputs": [
    {
     "data": {
      "text/plain": [
       "array([[ 0.01,  0.01,  0.01],\n",
       "       [ 0.01,  0.01,  0.01],\n",
       "       [ 0.01,  0.01,  0.01]])"
      ]
     },
     "execution_count": 153,
     "metadata": {},
     "output_type": "execute_result"
    }
   ],
   "source": [
    "a**2"
   ]
  },
  {
   "cell_type": "code",
   "execution_count": 154,
   "metadata": {
    "collapsed": false
   },
   "outputs": [
    {
     "data": {
      "text/plain": [
       "array([[ 3.14159265,  3.14159265,  3.14159265],\n",
       "       [ 3.14159265,  3.14159265,  3.14159265],\n",
       "       [ 3.14159265,  3.14159265,  3.14159265]])"
      ]
     },
     "execution_count": 154,
     "metadata": {},
     "output_type": "execute_result"
    }
   ],
   "source": [
    "np.pi*b"
   ]
  },
  {
   "cell_type": "code",
   "execution_count": 170,
   "metadata": {
    "collapsed": true
   },
   "outputs": [],
   "source": [
    "a = np.random.rand(10,10)"
   ]
  },
  {
   "cell_type": "code",
   "execution_count": 171,
   "metadata": {
    "collapsed": false
   },
   "outputs": [],
   "source": [
    "va.enable()"
   ]
  },
  {
   "cell_type": "code",
   "execution_count": 172,
   "metadata": {
    "collapsed": false
   },
   "outputs": [
    {
     "data": {
      "text/html": [
       "<style type=\"text/css\">table.blockgrid {border: none;} .blockgrid tr {border: none;} .blockgrid td {padding: 0px;} #blocksac41aa5e-e8e6-45b3-9932-43e5cb898f47 td {border: 1px solid white;}</style><table id=\"blocksac41aa5e-e8e6-45b3-9932-43e5cb898f47\" class=\"blockgrid\"><tbody><tr><td title=\"Index: [0, 0]&#10;Color: (242, 247, 253)\" style=\"width: 30px; height: 30px;background-color: rgb(242, 247, 253);\"></td><td title=\"Index: [0, 1]&#10;Color: (191, 216, 237)\" style=\"width: 30px; height: 30px;background-color: rgb(191, 216, 237);\"></td><td title=\"Index: [0, 2]&#10;Color: (215, 230, 245)\" style=\"width: 30px; height: 30px;background-color: rgb(215, 230, 245);\"></td><td title=\"Index: [0, 3]&#10;Color: (141, 193, 221)\" style=\"width: 30px; height: 30px;background-color: rgb(141, 193, 221);\"></td><td title=\"Index: [0, 4]&#10;Color: (156, 201, 225)\" style=\"width: 30px; height: 30px;background-color: rgb(156, 201, 225);\"></td><td title=\"Index: [0, 5]&#10;Color: (227, 238, 248)\" style=\"width: 30px; height: 30px;background-color: rgb(227, 238, 248);\"></td><td title=\"Index: [0, 6]&#10;Color: (14, 89, 162)\" style=\"width: 30px; height: 30px;background-color: rgb(14, 89, 162);\"></td><td title=\"Index: [0, 7]&#10;Color: (179, 211, 232)\" style=\"width: 30px; height: 30px;background-color: rgb(179, 211, 232);\"></td><td title=\"Index: [0, 8]&#10;Color: (240, 246, 253)\" style=\"width: 30px; height: 30px;background-color: rgb(240, 246, 253);\"></td><td title=\"Index: [0, 9]&#10;Color: (161, 203, 226)\" style=\"width: 30px; height: 30px;background-color: rgb(161, 203, 226);\"></td></tr><tr><td title=\"Index: [1, 0]&#10;Color: (39, 119, 184)\" style=\"width: 30px; height: 30px;background-color: rgb(39, 119, 184);\"></td><td title=\"Index: [1, 1]&#10;Color: (206, 224, 242)\" style=\"width: 30px; height: 30px;background-color: rgb(206, 224, 242);\"></td><td title=\"Index: [1, 2]&#10;Color: (74, 152, 201)\" style=\"width: 30px; height: 30px;background-color: rgb(74, 152, 201);\"></td><td title=\"Index: [1, 3]&#10;Color: (86, 160, 206)\" style=\"width: 30px; height: 30px;background-color: rgb(86, 160, 206);\"></td><td title=\"Index: [1, 4]&#10;Color: (216, 231, 245)\" style=\"width: 30px; height: 30px;background-color: rgb(216, 231, 245);\"></td><td title=\"Index: [1, 5]&#10;Color: (242, 247, 253)\" style=\"width: 30px; height: 30px;background-color: rgb(242, 247, 253);\"></td><td title=\"Index: [1, 6]&#10;Color: (216, 231, 245)\" style=\"width: 30px; height: 30px;background-color: rgb(216, 231, 245);\"></td><td title=\"Index: [1, 7]&#10;Color: (50, 130, 190)\" style=\"width: 30px; height: 30px;background-color: rgb(50, 130, 190);\"></td><td title=\"Index: [1, 8]&#10;Color: (234, 242, 251)\" style=\"width: 30px; height: 30px;background-color: rgb(234, 242, 251);\"></td><td title=\"Index: [1, 9]&#10;Color: (141, 193, 221)\" style=\"width: 30px; height: 30px;background-color: rgb(141, 193, 221);\"></td></tr><tr><td title=\"Index: [2, 0]&#10;Color: (8, 72, 142)\" style=\"width: 30px; height: 30px;background-color: rgb(8, 72, 142);\"></td><td title=\"Index: [2, 1]&#10;Color: (8, 65, 132)\" style=\"width: 30px; height: 30px;background-color: rgb(8, 65, 132);\"></td><td title=\"Index: [2, 2]&#10;Color: (222, 235, 247)\" style=\"width: 30px; height: 30px;background-color: rgb(222, 235, 247);\"></td><td title=\"Index: [2, 3]&#10;Color: (41, 121, 185)\" style=\"width: 30px; height: 30px;background-color: rgb(41, 121, 185);\"></td><td title=\"Index: [2, 4]&#10;Color: (238, 245, 252)\" style=\"width: 30px; height: 30px;background-color: rgb(238, 245, 252);\"></td><td title=\"Index: [2, 5]&#10;Color: (214, 229, 244)\" style=\"width: 30px; height: 30px;background-color: rgb(214, 229, 244);\"></td><td title=\"Index: [2, 6]&#10;Color: (121, 181, 217)\" style=\"width: 30px; height: 30px;background-color: rgb(121, 181, 217);\"></td><td title=\"Index: [2, 7]&#10;Color: (217, 231, 245)\" style=\"width: 30px; height: 30px;background-color: rgb(217, 231, 245);\"></td><td title=\"Index: [2, 8]&#10;Color: (135, 189, 220)\" style=\"width: 30px; height: 30px;background-color: rgb(135, 189, 220);\"></td><td title=\"Index: [2, 9]&#10;Color: (8, 51, 112)\" style=\"width: 30px; height: 30px;background-color: rgb(8, 51, 112);\"></td></tr><tr><td title=\"Index: [3, 0]&#10;Color: (10, 83, 158)\" style=\"width: 30px; height: 30px;background-color: rgb(10, 83, 158);\"></td><td title=\"Index: [3, 1]&#10;Color: (8, 50, 110)\" style=\"width: 30px; height: 30px;background-color: rgb(8, 50, 110);\"></td><td title=\"Index: [3, 2]&#10;Color: (26, 104, 174)\" style=\"width: 30px; height: 30px;background-color: rgb(26, 104, 174);\"></td><td title=\"Index: [3, 3]&#10;Color: (157, 202, 225)\" style=\"width: 30px; height: 30px;background-color: rgb(157, 202, 225);\"></td><td title=\"Index: [3, 4]&#10;Color: (63, 143, 197)\" style=\"width: 30px; height: 30px;background-color: rgb(63, 143, 197);\"></td><td title=\"Index: [3, 5]&#10;Color: (247, 251, 255)\" style=\"width: 30px; height: 30px;background-color: rgb(247, 251, 255);\"></td><td title=\"Index: [3, 6]&#10;Color: (220, 234, 246)\" style=\"width: 30px; height: 30px;background-color: rgb(220, 234, 246);\"></td><td title=\"Index: [3, 7]&#10;Color: (8, 59, 124)\" style=\"width: 30px; height: 30px;background-color: rgb(8, 59, 124);\"></td><td title=\"Index: [3, 8]&#10;Color: (165, 205, 227)\" style=\"width: 30px; height: 30px;background-color: rgb(165, 205, 227);\"></td><td title=\"Index: [3, 9]&#10;Color: (57, 137, 193)\" style=\"width: 30px; height: 30px;background-color: rgb(57, 137, 193);\"></td></tr><tr><td title=\"Index: [4, 0]&#10;Color: (74, 152, 201)\" style=\"width: 30px; height: 30px;background-color: rgb(74, 152, 201);\"></td><td title=\"Index: [4, 1]&#10;Color: (138, 191, 221)\" style=\"width: 30px; height: 30px;background-color: rgb(138, 191, 221);\"></td><td title=\"Index: [4, 2]&#10;Color: (168, 206, 228)\" style=\"width: 30px; height: 30px;background-color: rgb(168, 206, 228);\"></td><td title=\"Index: [4, 3]&#10;Color: (204, 223, 241)\" style=\"width: 30px; height: 30px;background-color: rgb(204, 223, 241);\"></td><td title=\"Index: [4, 4]&#10;Color: (32, 111, 180)\" style=\"width: 30px; height: 30px;background-color: rgb(32, 111, 180);\"></td><td title=\"Index: [4, 5]&#10;Color: (55, 135, 192)\" style=\"width: 30px; height: 30px;background-color: rgb(55, 135, 192);\"></td><td title=\"Index: [4, 6]&#10;Color: (18, 94, 166)\" style=\"width: 30px; height: 30px;background-color: rgb(18, 94, 166);\"></td><td title=\"Index: [4, 7]&#10;Color: (189, 215, 236)\" style=\"width: 30px; height: 30px;background-color: rgb(189, 215, 236);\"></td><td title=\"Index: [4, 8]&#10;Color: (50, 130, 190)\" style=\"width: 30px; height: 30px;background-color: rgb(50, 130, 190);\"></td><td title=\"Index: [4, 9]&#10;Color: (68, 147, 199)\" style=\"width: 30px; height: 30px;background-color: rgb(68, 147, 199);\"></td></tr><tr><td title=\"Index: [5, 0]&#10;Color: (223, 236, 247)\" style=\"width: 30px; height: 30px;background-color: rgb(223, 236, 247);\"></td><td title=\"Index: [5, 1]&#10;Color: (217, 232, 245)\" style=\"width: 30px; height: 30px;background-color: rgb(217, 232, 245);\"></td><td title=\"Index: [5, 2]&#10;Color: (193, 217, 237)\" style=\"width: 30px; height: 30px;background-color: rgb(193, 217, 237);\"></td><td title=\"Index: [5, 3]&#10;Color: (32, 112, 180)\" style=\"width: 30px; height: 30px;background-color: rgb(32, 112, 180);\"></td><td title=\"Index: [5, 4]&#10;Color: (8, 74, 145)\" style=\"width: 30px; height: 30px;background-color: rgb(8, 74, 145);\"></td><td title=\"Index: [5, 5]&#10;Color: (214, 230, 244)\" style=\"width: 30px; height: 30px;background-color: rgb(214, 230, 244);\"></td><td title=\"Index: [5, 6]&#10;Color: (82, 157, 204)\" style=\"width: 30px; height: 30px;background-color: rgb(82, 157, 204);\"></td><td title=\"Index: [5, 7]&#10;Color: (64, 144, 197)\" style=\"width: 30px; height: 30px;background-color: rgb(64, 144, 197);\"></td><td title=\"Index: [5, 8]&#10;Color: (56, 136, 193)\" style=\"width: 30px; height: 30px;background-color: rgb(56, 136, 193);\"></td><td title=\"Index: [5, 9]&#10;Color: (8, 69, 138)\" style=\"width: 30px; height: 30px;background-color: rgb(8, 69, 138);\"></td></tr><tr><td title=\"Index: [6, 0]&#10;Color: (62, 142, 196)\" style=\"width: 30px; height: 30px;background-color: rgb(62, 142, 196);\"></td><td title=\"Index: [6, 1]&#10;Color: (132, 188, 219)\" style=\"width: 30px; height: 30px;background-color: rgb(132, 188, 219);\"></td><td title=\"Index: [6, 2]&#10;Color: (32, 111, 180)\" style=\"width: 30px; height: 30px;background-color: rgb(32, 111, 180);\"></td><td title=\"Index: [6, 3]&#10;Color: (21, 97, 169)\" style=\"width: 30px; height: 30px;background-color: rgb(21, 97, 169);\"></td><td title=\"Index: [6, 4]&#10;Color: (214, 230, 244)\" style=\"width: 30px; height: 30px;background-color: rgb(214, 230, 244);\"></td><td title=\"Index: [6, 5]&#10;Color: (8, 69, 138)\" style=\"width: 30px; height: 30px;background-color: rgb(8, 69, 138);\"></td><td title=\"Index: [6, 6]&#10;Color: (8, 50, 110)\" style=\"width: 30px; height: 30px;background-color: rgb(8, 50, 110);\"></td><td title=\"Index: [6, 7]&#10;Color: (99, 168, 211)\" style=\"width: 30px; height: 30px;background-color: rgb(99, 168, 211);\"></td><td title=\"Index: [6, 8]&#10;Color: (226, 237, 248)\" style=\"width: 30px; height: 30px;background-color: rgb(226, 237, 248);\"></td><td title=\"Index: [6, 9]&#10;Color: (24, 101, 172)\" style=\"width: 30px; height: 30px;background-color: rgb(24, 101, 172);\"></td></tr><tr><td title=\"Index: [7, 0]&#10;Color: (204, 223, 241)\" style=\"width: 30px; height: 30px;background-color: rgb(204, 223, 241);\"></td><td title=\"Index: [7, 1]&#10;Color: (66, 146, 198)\" style=\"width: 30px; height: 30px;background-color: rgb(66, 146, 198);\"></td><td title=\"Index: [7, 2]&#10;Color: (211, 227, 243)\" style=\"width: 30px; height: 30px;background-color: rgb(211, 227, 243);\"></td><td title=\"Index: [7, 3]&#10;Color: (72, 150, 200)\" style=\"width: 30px; height: 30px;background-color: rgb(72, 150, 200);\"></td><td title=\"Index: [7, 4]&#10;Color: (82, 157, 204)\" style=\"width: 30px; height: 30px;background-color: rgb(82, 157, 204);\"></td><td title=\"Index: [7, 5]&#10;Color: (231, 241, 250)\" style=\"width: 30px; height: 30px;background-color: rgb(231, 241, 250);\"></td><td title=\"Index: [7, 6]&#10;Color: (8, 67, 135)\" style=\"width: 30px; height: 30px;background-color: rgb(8, 67, 135);\"></td><td title=\"Index: [7, 7]&#10;Color: (8, 80, 155)\" style=\"width: 30px; height: 30px;background-color: rgb(8, 80, 155);\"></td><td title=\"Index: [7, 8]&#10;Color: (8, 69, 138)\" style=\"width: 30px; height: 30px;background-color: rgb(8, 69, 138);\"></td><td title=\"Index: [7, 9]&#10;Color: (133, 188, 220)\" style=\"width: 30px; height: 30px;background-color: rgb(133, 188, 220);\"></td></tr><tr><td title=\"Index: [8, 0]&#10;Color: (74, 152, 201)\" style=\"width: 30px; height: 30px;background-color: rgb(74, 152, 201);\"></td><td title=\"Index: [8, 1]&#10;Color: (190, 216, 236)\" style=\"width: 30px; height: 30px;background-color: rgb(190, 216, 236);\"></td><td title=\"Index: [8, 2]&#10;Color: (32, 111, 180)\" style=\"width: 30px; height: 30px;background-color: rgb(32, 111, 180);\"></td><td title=\"Index: [8, 3]&#10;Color: (204, 223, 241)\" style=\"width: 30px; height: 30px;background-color: rgb(204, 223, 241);\"></td><td title=\"Index: [8, 4]&#10;Color: (72, 150, 200)\" style=\"width: 30px; height: 30px;background-color: rgb(72, 150, 200);\"></td><td title=\"Index: [8, 5]&#10;Color: (44, 124, 186)\" style=\"width: 30px; height: 30px;background-color: rgb(44, 124, 186);\"></td><td title=\"Index: [8, 6]&#10;Color: (231, 240, 250)\" style=\"width: 30px; height: 30px;background-color: rgb(231, 240, 250);\"></td><td title=\"Index: [8, 7]&#10;Color: (211, 227, 243)\" style=\"width: 30px; height: 30px;background-color: rgb(211, 227, 243);\"></td><td title=\"Index: [8, 8]&#10;Color: (220, 234, 246)\" style=\"width: 30px; height: 30px;background-color: rgb(220, 234, 246);\"></td><td title=\"Index: [8, 9]&#10;Color: (137, 190, 220)\" style=\"width: 30px; height: 30px;background-color: rgb(137, 190, 220);\"></td></tr><tr><td title=\"Index: [9, 0]&#10;Color: (8, 48, 107)\" style=\"width: 30px; height: 30px;background-color: rgb(8, 48, 107);\"></td><td title=\"Index: [9, 1]&#10;Color: (8, 78, 152)\" style=\"width: 30px; height: 30px;background-color: rgb(8, 78, 152);\"></td><td title=\"Index: [9, 2]&#10;Color: (8, 60, 125)\" style=\"width: 30px; height: 30px;background-color: rgb(8, 60, 125);\"></td><td title=\"Index: [9, 3]&#10;Color: (21, 97, 169)\" style=\"width: 30px; height: 30px;background-color: rgb(21, 97, 169);\"></td><td title=\"Index: [9, 4]&#10;Color: (82, 157, 204)\" style=\"width: 30px; height: 30px;background-color: rgb(82, 157, 204);\"></td><td title=\"Index: [9, 5]&#10;Color: (238, 245, 252)\" style=\"width: 30px; height: 30px;background-color: rgb(238, 245, 252);\"></td><td title=\"Index: [9, 6]&#10;Color: (157, 202, 225)\" style=\"width: 30px; height: 30px;background-color: rgb(157, 202, 225);\"></td><td title=\"Index: [9, 7]&#10;Color: (201, 221, 240)\" style=\"width: 30px; height: 30px;background-color: rgb(201, 221, 240);\"></td><td title=\"Index: [9, 8]&#10;Color: (206, 224, 242)\" style=\"width: 30px; height: 30px;background-color: rgb(206, 224, 242);\"></td><td title=\"Index: [9, 9]&#10;Color: (24, 101, 172)\" style=\"width: 30px; height: 30px;background-color: rgb(24, 101, 172);\"></td></tr></tbody></table>"
      ],
      "text/plain": [
       "array([[ 0.04975301,  0.28794271,  0.18187783,  0.43004931,  0.39537224,\n",
       "         0.12343834,  0.84387647,  0.32657504,  0.05744398,  0.37953236],\n",
       "       [ 0.72928162,  0.22731261,  0.60589415,  0.57485312,  0.17546155,\n",
       "         0.05064034,  0.17588122,  0.69361514,  0.0871208 ,  0.42679502],\n",
       "       [ 0.9077253 ,  0.93721854,  0.1456079 ,  0.72741297,  0.06413768,\n",
       "         0.18820537,  0.47770691,  0.17359486,  0.44418359,  0.98459391],\n",
       "       [ 0.86642271,  0.99015674,  0.78882246,  0.39027749,  0.64139049,\n",
       "         0.02186293,  0.15398292,  0.95421168,  0.36673762,  0.66447167],\n",
       "       [ 0.60602338,  0.43637405,  0.35945312,  0.23650816,  0.75955012,\n",
       "         0.67313907,  0.82621466,  0.293359  ,  0.69352977,  0.62530847],\n",
       "       [ 0.13705881,  0.16763394,  0.28288998,  0.75498399,  0.90298988,\n",
       "         0.18331038,  0.58621062,  0.63943287,  0.66850194,  0.92020274],\n",
       "       [ 0.64550369,  0.44955856,  0.76060619,  0.81470012,  0.18240608,\n",
       "         0.92118382,  0.98769002,  0.53597152,  0.12764747,  0.79844773],\n",
       "       [ 0.2378347 ,  0.63080125,  0.20290636,  0.61391382,  0.58378483,\n",
       "         0.10076457,  0.92921049,  0.87897254,  0.92248554,  0.44791581],\n",
       "       [ 0.60895721,  0.29020185,  0.76185342,  0.23928088,  0.61598167,\n",
       "         0.7149536 ,  0.10215677,  0.20441677,  0.15379646,  0.44080362],\n",
       "       [ 0.99901342,  0.88826912,  0.95150983,  0.81503405,  0.58415553,\n",
       "         0.06923142,  0.38865989,  0.2522284 ,  0.22497516,  0.7995263 ]])"
      ]
     },
     "execution_count": 172,
     "metadata": {},
     "output_type": "execute_result"
    }
   ],
   "source": [
    "a"
   ]
  },
  {
   "cell_type": "code",
   "execution_count": 173,
   "metadata": {
    "collapsed": false
   },
   "outputs": [
    {
     "data": {
      "text/plain": [
       "0.049753008761178497"
      ]
     },
     "execution_count": 173,
     "metadata": {},
     "output_type": "execute_result"
    }
   ],
   "source": [
    "a[0,0]"
   ]
  },
  {
   "cell_type": "code",
   "execution_count": 174,
   "metadata": {
    "collapsed": false
   },
   "outputs": [
    {
     "data": {
      "text/plain": [
       "True"
      ]
     },
     "execution_count": 174,
     "metadata": {},
     "output_type": "execute_result"
    }
   ],
   "source": [
    "a[-1,-1] == a[9,9]"
   ]
  },
  {
   "cell_type": "code",
   "execution_count": 175,
   "metadata": {
    "collapsed": false
   },
   "outputs": [
    {
     "data": {
      "text/html": [
       "<style type=\"text/css\">table.blockgrid {border: none;} .blockgrid tr {border: none;} .blockgrid td {padding: 0px;} #blocksec965a76-f0d1-4aab-8f8a-5d62f7ea3014 td {border: 1px solid white;}</style><table id=\"blocksec965a76-f0d1-4aab-8f8a-5d62f7ea3014\" class=\"blockgrid\"><tbody><tr><td title=\"Index: [0, 0]&#10;Color: (242, 247, 253)\" style=\"width: 30px; height: 30px;background-color: rgb(242, 247, 253);\"></td><td title=\"Index: [0, 1]&#10;Color: (39, 119, 184)\" style=\"width: 30px; height: 30px;background-color: rgb(39, 119, 184);\"></td><td title=\"Index: [0, 2]&#10;Color: (8, 72, 142)\" style=\"width: 30px; height: 30px;background-color: rgb(8, 72, 142);\"></td><td title=\"Index: [0, 3]&#10;Color: (10, 83, 158)\" style=\"width: 30px; height: 30px;background-color: rgb(10, 83, 158);\"></td><td title=\"Index: [0, 4]&#10;Color: (74, 152, 201)\" style=\"width: 30px; height: 30px;background-color: rgb(74, 152, 201);\"></td><td title=\"Index: [0, 5]&#10;Color: (223, 236, 247)\" style=\"width: 30px; height: 30px;background-color: rgb(223, 236, 247);\"></td><td title=\"Index: [0, 6]&#10;Color: (62, 142, 196)\" style=\"width: 30px; height: 30px;background-color: rgb(62, 142, 196);\"></td><td title=\"Index: [0, 7]&#10;Color: (204, 223, 241)\" style=\"width: 30px; height: 30px;background-color: rgb(204, 223, 241);\"></td><td title=\"Index: [0, 8]&#10;Color: (74, 152, 201)\" style=\"width: 30px; height: 30px;background-color: rgb(74, 152, 201);\"></td><td title=\"Index: [0, 9]&#10;Color: (8, 48, 107)\" style=\"width: 30px; height: 30px;background-color: rgb(8, 48, 107);\"></td></tr></tbody></table>"
      ],
      "text/plain": [
       "array([ 0.04975301,  0.72928162,  0.9077253 ,  0.86642271,  0.60602338,\n",
       "        0.13705881,  0.64550369,  0.2378347 ,  0.60895721,  0.99901342])"
      ]
     },
     "execution_count": 175,
     "metadata": {},
     "output_type": "execute_result"
    }
   ],
   "source": [
    "a[:,0]"
   ]
  },
  {
   "cell_type": "code",
   "execution_count": 176,
   "metadata": {
    "collapsed": false
   },
   "outputs": [
    {
     "data": {
      "text/html": [
       "<style type=\"text/css\">table.blockgrid {border: none;} .blockgrid tr {border: none;} .blockgrid td {padding: 0px;} #blocks8879f451-2577-47d2-9b43-d418219e60db td {border: 1px solid white;}</style><table id=\"blocks8879f451-2577-47d2-9b43-d418219e60db\" class=\"blockgrid\"><tbody><tr><td title=\"Index: [0, 0]&#10;Color: (8, 48, 107)\" style=\"width: 30px; height: 30px;background-color: rgb(8, 48, 107);\"></td><td title=\"Index: [0, 1]&#10;Color: (8, 78, 152)\" style=\"width: 30px; height: 30px;background-color: rgb(8, 78, 152);\"></td><td title=\"Index: [0, 2]&#10;Color: (8, 60, 125)\" style=\"width: 30px; height: 30px;background-color: rgb(8, 60, 125);\"></td><td title=\"Index: [0, 3]&#10;Color: (21, 97, 169)\" style=\"width: 30px; height: 30px;background-color: rgb(21, 97, 169);\"></td><td title=\"Index: [0, 4]&#10;Color: (82, 157, 204)\" style=\"width: 30px; height: 30px;background-color: rgb(82, 157, 204);\"></td><td title=\"Index: [0, 5]&#10;Color: (238, 245, 252)\" style=\"width: 30px; height: 30px;background-color: rgb(238, 245, 252);\"></td><td title=\"Index: [0, 6]&#10;Color: (157, 202, 225)\" style=\"width: 30px; height: 30px;background-color: rgb(157, 202, 225);\"></td><td title=\"Index: [0, 7]&#10;Color: (201, 221, 240)\" style=\"width: 30px; height: 30px;background-color: rgb(201, 221, 240);\"></td><td title=\"Index: [0, 8]&#10;Color: (206, 224, 242)\" style=\"width: 30px; height: 30px;background-color: rgb(206, 224, 242);\"></td><td title=\"Index: [0, 9]&#10;Color: (24, 101, 172)\" style=\"width: 30px; height: 30px;background-color: rgb(24, 101, 172);\"></td></tr></tbody></table>"
      ],
      "text/plain": [
       "array([ 0.99901342,  0.88826912,  0.95150983,  0.81503405,  0.58415553,\n",
       "        0.06923142,  0.38865989,  0.2522284 ,  0.22497516,  0.7995263 ])"
      ]
     },
     "execution_count": 176,
     "metadata": {},
     "output_type": "execute_result"
    }
   ],
   "source": [
    "a[-1,:]"
   ]
  },
  {
   "cell_type": "code",
   "execution_count": 177,
   "metadata": {
    "collapsed": false
   },
   "outputs": [
    {
     "data": {
      "text/html": [
       "<style type=\"text/css\">table.blockgrid {border: none;} .blockgrid tr {border: none;} .blockgrid td {padding: 0px;} #blocks2737a228-4b7d-42e0-a343-74bf6562ea80 td {border: 1px solid white;}</style><table id=\"blocks2737a228-4b7d-42e0-a343-74bf6562ea80\" class=\"blockgrid\"><tbody><tr><td title=\"Index: [0, 0]&#10;Color: (242, 247, 253)\" style=\"width: 30px; height: 30px;background-color: rgb(242, 247, 253);\"></td><td title=\"Index: [0, 1]&#10;Color: (191, 216, 237)\" style=\"width: 30px; height: 30px;background-color: rgb(191, 216, 237);\"></td></tr><tr><td title=\"Index: [1, 0]&#10;Color: (39, 119, 184)\" style=\"width: 30px; height: 30px;background-color: rgb(39, 119, 184);\"></td><td title=\"Index: [1, 1]&#10;Color: (206, 224, 242)\" style=\"width: 30px; height: 30px;background-color: rgb(206, 224, 242);\"></td></tr></tbody></table>"
      ],
      "text/plain": [
       "array([[ 0.04975301,  0.28794271],\n",
       "       [ 0.72928162,  0.22731261]])"
      ]
     },
     "execution_count": 177,
     "metadata": {},
     "output_type": "execute_result"
    }
   ],
   "source": [
    "a[0:2,0:2]"
   ]
  },
  {
   "cell_type": "code",
   "execution_count": 178,
   "metadata": {
    "collapsed": true
   },
   "outputs": [],
   "source": [
    "a[0:5, 0:5] = 1.0"
   ]
  },
  {
   "cell_type": "code",
   "execution_count": 179,
   "metadata": {
    "collapsed": false
   },
   "outputs": [
    {
     "data": {
      "text/html": [
       "<style type=\"text/css\">table.blockgrid {border: none;} .blockgrid tr {border: none;} .blockgrid td {padding: 0px;} #blocks2b4d9233-781b-42b2-b159-c83b98042d0a td {border: 1px solid white;}</style><table id=\"blocks2b4d9233-781b-42b2-b159-c83b98042d0a\" class=\"blockgrid\"><tbody><tr><td title=\"Index: [0, 0]&#10;Color: (8, 48, 107)\" style=\"width: 30px; height: 30px;background-color: rgb(8, 48, 107);\"></td><td title=\"Index: [0, 1]&#10;Color: (8, 48, 107)\" style=\"width: 30px; height: 30px;background-color: rgb(8, 48, 107);\"></td><td title=\"Index: [0, 2]&#10;Color: (8, 48, 107)\" style=\"width: 30px; height: 30px;background-color: rgb(8, 48, 107);\"></td><td title=\"Index: [0, 3]&#10;Color: (8, 48, 107)\" style=\"width: 30px; height: 30px;background-color: rgb(8, 48, 107);\"></td><td title=\"Index: [0, 4]&#10;Color: (8, 48, 107)\" style=\"width: 30px; height: 30px;background-color: rgb(8, 48, 107);\"></td><td title=\"Index: [0, 5]&#10;Color: (227, 238, 248)\" style=\"width: 30px; height: 30px;background-color: rgb(227, 238, 248);\"></td><td title=\"Index: [0, 6]&#10;Color: (14, 89, 162)\" style=\"width: 30px; height: 30px;background-color: rgb(14, 89, 162);\"></td><td title=\"Index: [0, 7]&#10;Color: (179, 211, 232)\" style=\"width: 30px; height: 30px;background-color: rgb(179, 211, 232);\"></td><td title=\"Index: [0, 8]&#10;Color: (240, 246, 253)\" style=\"width: 30px; height: 30px;background-color: rgb(240, 246, 253);\"></td><td title=\"Index: [0, 9]&#10;Color: (161, 203, 226)\" style=\"width: 30px; height: 30px;background-color: rgb(161, 203, 226);\"></td></tr><tr><td title=\"Index: [1, 0]&#10;Color: (8, 48, 107)\" style=\"width: 30px; height: 30px;background-color: rgb(8, 48, 107);\"></td><td title=\"Index: [1, 1]&#10;Color: (8, 48, 107)\" style=\"width: 30px; height: 30px;background-color: rgb(8, 48, 107);\"></td><td title=\"Index: [1, 2]&#10;Color: (8, 48, 107)\" style=\"width: 30px; height: 30px;background-color: rgb(8, 48, 107);\"></td><td title=\"Index: [1, 3]&#10;Color: (8, 48, 107)\" style=\"width: 30px; height: 30px;background-color: rgb(8, 48, 107);\"></td><td title=\"Index: [1, 4]&#10;Color: (8, 48, 107)\" style=\"width: 30px; height: 30px;background-color: rgb(8, 48, 107);\"></td><td title=\"Index: [1, 5]&#10;Color: (242, 247, 253)\" style=\"width: 30px; height: 30px;background-color: rgb(242, 247, 253);\"></td><td title=\"Index: [1, 6]&#10;Color: (216, 231, 245)\" style=\"width: 30px; height: 30px;background-color: rgb(216, 231, 245);\"></td><td title=\"Index: [1, 7]&#10;Color: (50, 130, 190)\" style=\"width: 30px; height: 30px;background-color: rgb(50, 130, 190);\"></td><td title=\"Index: [1, 8]&#10;Color: (234, 242, 251)\" style=\"width: 30px; height: 30px;background-color: rgb(234, 242, 251);\"></td><td title=\"Index: [1, 9]&#10;Color: (143, 194, 222)\" style=\"width: 30px; height: 30px;background-color: rgb(143, 194, 222);\"></td></tr><tr><td title=\"Index: [2, 0]&#10;Color: (8, 48, 107)\" style=\"width: 30px; height: 30px;background-color: rgb(8, 48, 107);\"></td><td title=\"Index: [2, 1]&#10;Color: (8, 48, 107)\" style=\"width: 30px; height: 30px;background-color: rgb(8, 48, 107);\"></td><td title=\"Index: [2, 2]&#10;Color: (8, 48, 107)\" style=\"width: 30px; height: 30px;background-color: rgb(8, 48, 107);\"></td><td title=\"Index: [2, 3]&#10;Color: (8, 48, 107)\" style=\"width: 30px; height: 30px;background-color: rgb(8, 48, 107);\"></td><td title=\"Index: [2, 4]&#10;Color: (8, 48, 107)\" style=\"width: 30px; height: 30px;background-color: rgb(8, 48, 107);\"></td><td title=\"Index: [2, 5]&#10;Color: (214, 229, 244)\" style=\"width: 30px; height: 30px;background-color: rgb(214, 229, 244);\"></td><td title=\"Index: [2, 6]&#10;Color: (121, 181, 217)\" style=\"width: 30px; height: 30px;background-color: rgb(121, 181, 217);\"></td><td title=\"Index: [2, 7]&#10;Color: (217, 231, 245)\" style=\"width: 30px; height: 30px;background-color: rgb(217, 231, 245);\"></td><td title=\"Index: [2, 8]&#10;Color: (135, 189, 220)\" style=\"width: 30px; height: 30px;background-color: rgb(135, 189, 220);\"></td><td title=\"Index: [2, 9]&#10;Color: (8, 52, 113)\" style=\"width: 30px; height: 30px;background-color: rgb(8, 52, 113);\"></td></tr><tr><td title=\"Index: [3, 0]&#10;Color: (8, 48, 107)\" style=\"width: 30px; height: 30px;background-color: rgb(8, 48, 107);\"></td><td title=\"Index: [3, 1]&#10;Color: (8, 48, 107)\" style=\"width: 30px; height: 30px;background-color: rgb(8, 48, 107);\"></td><td title=\"Index: [3, 2]&#10;Color: (8, 48, 107)\" style=\"width: 30px; height: 30px;background-color: rgb(8, 48, 107);\"></td><td title=\"Index: [3, 3]&#10;Color: (8, 48, 107)\" style=\"width: 30px; height: 30px;background-color: rgb(8, 48, 107);\"></td><td title=\"Index: [3, 4]&#10;Color: (8, 48, 107)\" style=\"width: 30px; height: 30px;background-color: rgb(8, 48, 107);\"></td><td title=\"Index: [3, 5]&#10;Color: (247, 251, 255)\" style=\"width: 30px; height: 30px;background-color: rgb(247, 251, 255);\"></td><td title=\"Index: [3, 6]&#10;Color: (220, 234, 246)\" style=\"width: 30px; height: 30px;background-color: rgb(220, 234, 246);\"></td><td title=\"Index: [3, 7]&#10;Color: (8, 59, 124)\" style=\"width: 30px; height: 30px;background-color: rgb(8, 59, 124);\"></td><td title=\"Index: [3, 8]&#10;Color: (165, 205, 227)\" style=\"width: 30px; height: 30px;background-color: rgb(165, 205, 227);\"></td><td title=\"Index: [3, 9]&#10;Color: (57, 137, 193)\" style=\"width: 30px; height: 30px;background-color: rgb(57, 137, 193);\"></td></tr><tr><td title=\"Index: [4, 0]&#10;Color: (8, 48, 107)\" style=\"width: 30px; height: 30px;background-color: rgb(8, 48, 107);\"></td><td title=\"Index: [4, 1]&#10;Color: (8, 48, 107)\" style=\"width: 30px; height: 30px;background-color: rgb(8, 48, 107);\"></td><td title=\"Index: [4, 2]&#10;Color: (8, 48, 107)\" style=\"width: 30px; height: 30px;background-color: rgb(8, 48, 107);\"></td><td title=\"Index: [4, 3]&#10;Color: (8, 48, 107)\" style=\"width: 30px; height: 30px;background-color: rgb(8, 48, 107);\"></td><td title=\"Index: [4, 4]&#10;Color: (8, 48, 107)\" style=\"width: 30px; height: 30px;background-color: rgb(8, 48, 107);\"></td><td title=\"Index: [4, 5]&#10;Color: (55, 135, 192)\" style=\"width: 30px; height: 30px;background-color: rgb(55, 135, 192);\"></td><td title=\"Index: [4, 6]&#10;Color: (18, 94, 166)\" style=\"width: 30px; height: 30px;background-color: rgb(18, 94, 166);\"></td><td title=\"Index: [4, 7]&#10;Color: (189, 215, 236)\" style=\"width: 30px; height: 30px;background-color: rgb(189, 215, 236);\"></td><td title=\"Index: [4, 8]&#10;Color: (50, 130, 190)\" style=\"width: 30px; height: 30px;background-color: rgb(50, 130, 190);\"></td><td title=\"Index: [4, 9]&#10;Color: (69, 148, 199)\" style=\"width: 30px; height: 30px;background-color: rgb(69, 148, 199);\"></td></tr><tr><td title=\"Index: [5, 0]&#10;Color: (223, 236, 247)\" style=\"width: 30px; height: 30px;background-color: rgb(223, 236, 247);\"></td><td title=\"Index: [5, 1]&#10;Color: (217, 232, 245)\" style=\"width: 30px; height: 30px;background-color: rgb(217, 232, 245);\"></td><td title=\"Index: [5, 2]&#10;Color: (193, 217, 237)\" style=\"width: 30px; height: 30px;background-color: rgb(193, 217, 237);\"></td><td title=\"Index: [5, 3]&#10;Color: (33, 113, 181)\" style=\"width: 30px; height: 30px;background-color: rgb(33, 113, 181);\"></td><td title=\"Index: [5, 4]&#10;Color: (8, 74, 145)\" style=\"width: 30px; height: 30px;background-color: rgb(8, 74, 145);\"></td><td title=\"Index: [5, 5]&#10;Color: (214, 230, 244)\" style=\"width: 30px; height: 30px;background-color: rgb(214, 230, 244);\"></td><td title=\"Index: [5, 6]&#10;Color: (82, 157, 204)\" style=\"width: 30px; height: 30px;background-color: rgb(82, 157, 204);\"></td><td title=\"Index: [5, 7]&#10;Color: (64, 144, 197)\" style=\"width: 30px; height: 30px;background-color: rgb(64, 144, 197);\"></td><td title=\"Index: [5, 8]&#10;Color: (56, 136, 193)\" style=\"width: 30px; height: 30px;background-color: rgb(56, 136, 193);\"></td><td title=\"Index: [5, 9]&#10;Color: (8, 69, 138)\" style=\"width: 30px; height: 30px;background-color: rgb(8, 69, 138);\"></td></tr><tr><td title=\"Index: [6, 0]&#10;Color: (62, 142, 196)\" style=\"width: 30px; height: 30px;background-color: rgb(62, 142, 196);\"></td><td title=\"Index: [6, 1]&#10;Color: (133, 188, 220)\" style=\"width: 30px; height: 30px;background-color: rgb(133, 188, 220);\"></td><td title=\"Index: [6, 2]&#10;Color: (32, 111, 180)\" style=\"width: 30px; height: 30px;background-color: rgb(32, 111, 180);\"></td><td title=\"Index: [6, 3]&#10;Color: (21, 97, 169)\" style=\"width: 30px; height: 30px;background-color: rgb(21, 97, 169);\"></td><td title=\"Index: [6, 4]&#10;Color: (214, 230, 244)\" style=\"width: 30px; height: 30px;background-color: rgb(214, 230, 244);\"></td><td title=\"Index: [6, 5]&#10;Color: (8, 69, 138)\" style=\"width: 30px; height: 30px;background-color: rgb(8, 69, 138);\"></td><td title=\"Index: [6, 6]&#10;Color: (8, 51, 112)\" style=\"width: 30px; height: 30px;background-color: rgb(8, 51, 112);\"></td><td title=\"Index: [6, 7]&#10;Color: (99, 168, 211)\" style=\"width: 30px; height: 30px;background-color: rgb(99, 168, 211);\"></td><td title=\"Index: [6, 8]&#10;Color: (226, 237, 248)\" style=\"width: 30px; height: 30px;background-color: rgb(226, 237, 248);\"></td><td title=\"Index: [6, 9]&#10;Color: (24, 101, 172)\" style=\"width: 30px; height: 30px;background-color: rgb(24, 101, 172);\"></td></tr><tr><td title=\"Index: [7, 0]&#10;Color: (204, 223, 241)\" style=\"width: 30px; height: 30px;background-color: rgb(204, 223, 241);\"></td><td title=\"Index: [7, 1]&#10;Color: (66, 146, 198)\" style=\"width: 30px; height: 30px;background-color: rgb(66, 146, 198);\"></td><td title=\"Index: [7, 2]&#10;Color: (211, 227, 243)\" style=\"width: 30px; height: 30px;background-color: rgb(211, 227, 243);\"></td><td title=\"Index: [7, 3]&#10;Color: (73, 151, 201)\" style=\"width: 30px; height: 30px;background-color: rgb(73, 151, 201);\"></td><td title=\"Index: [7, 4]&#10;Color: (82, 157, 204)\" style=\"width: 30px; height: 30px;background-color: rgb(82, 157, 204);\"></td><td title=\"Index: [7, 5]&#10;Color: (231, 241, 250)\" style=\"width: 30px; height: 30px;background-color: rgb(231, 241, 250);\"></td><td title=\"Index: [7, 6]&#10;Color: (8, 67, 135)\" style=\"width: 30px; height: 30px;background-color: rgb(8, 67, 135);\"></td><td title=\"Index: [7, 7]&#10;Color: (8, 80, 155)\" style=\"width: 30px; height: 30px;background-color: rgb(8, 80, 155);\"></td><td title=\"Index: [7, 8]&#10;Color: (8, 69, 138)\" style=\"width: 30px; height: 30px;background-color: rgb(8, 69, 138);\"></td><td title=\"Index: [7, 9]&#10;Color: (133, 188, 220)\" style=\"width: 30px; height: 30px;background-color: rgb(133, 188, 220);\"></td></tr><tr><td title=\"Index: [8, 0]&#10;Color: (74, 152, 201)\" style=\"width: 30px; height: 30px;background-color: rgb(74, 152, 201);\"></td><td title=\"Index: [8, 1]&#10;Color: (190, 216, 236)\" style=\"width: 30px; height: 30px;background-color: rgb(190, 216, 236);\"></td><td title=\"Index: [8, 2]&#10;Color: (32, 111, 180)\" style=\"width: 30px; height: 30px;background-color: rgb(32, 111, 180);\"></td><td title=\"Index: [8, 3]&#10;Color: (204, 223, 241)\" style=\"width: 30px; height: 30px;background-color: rgb(204, 223, 241);\"></td><td title=\"Index: [8, 4]&#10;Color: (72, 150, 200)\" style=\"width: 30px; height: 30px;background-color: rgb(72, 150, 200);\"></td><td title=\"Index: [8, 5]&#10;Color: (44, 124, 186)\" style=\"width: 30px; height: 30px;background-color: rgb(44, 124, 186);\"></td><td title=\"Index: [8, 6]&#10;Color: (231, 240, 250)\" style=\"width: 30px; height: 30px;background-color: rgb(231, 240, 250);\"></td><td title=\"Index: [8, 7]&#10;Color: (211, 227, 243)\" style=\"width: 30px; height: 30px;background-color: rgb(211, 227, 243);\"></td><td title=\"Index: [8, 8]&#10;Color: (220, 234, 246)\" style=\"width: 30px; height: 30px;background-color: rgb(220, 234, 246);\"></td><td title=\"Index: [8, 9]&#10;Color: (137, 190, 220)\" style=\"width: 30px; height: 30px;background-color: rgb(137, 190, 220);\"></td></tr><tr><td title=\"Index: [9, 0]&#10;Color: (8, 48, 107)\" style=\"width: 30px; height: 30px;background-color: rgb(8, 48, 107);\"></td><td title=\"Index: [9, 1]&#10;Color: (8, 78, 152)\" style=\"width: 30px; height: 30px;background-color: rgb(8, 78, 152);\"></td><td title=\"Index: [9, 2]&#10;Color: (8, 60, 125)\" style=\"width: 30px; height: 30px;background-color: rgb(8, 60, 125);\"></td><td title=\"Index: [9, 3]&#10;Color: (21, 97, 169)\" style=\"width: 30px; height: 30px;background-color: rgb(21, 97, 169);\"></td><td title=\"Index: [9, 4]&#10;Color: (82, 157, 204)\" style=\"width: 30px; height: 30px;background-color: rgb(82, 157, 204);\"></td><td title=\"Index: [9, 5]&#10;Color: (238, 245, 252)\" style=\"width: 30px; height: 30px;background-color: rgb(238, 245, 252);\"></td><td title=\"Index: [9, 6]&#10;Color: (159, 202, 225)\" style=\"width: 30px; height: 30px;background-color: rgb(159, 202, 225);\"></td><td title=\"Index: [9, 7]&#10;Color: (201, 221, 240)\" style=\"width: 30px; height: 30px;background-color: rgb(201, 221, 240);\"></td><td title=\"Index: [9, 8]&#10;Color: (206, 224, 242)\" style=\"width: 30px; height: 30px;background-color: rgb(206, 224, 242);\"></td><td title=\"Index: [9, 9]&#10;Color: (24, 101, 172)\" style=\"width: 30px; height: 30px;background-color: rgb(24, 101, 172);\"></td></tr></tbody></table>"
      ],
      "text/plain": [
       "array([[ 1.        ,  1.        ,  1.        ,  1.        ,  1.        ,\n",
       "         0.12343834,  0.84387647,  0.32657504,  0.05744398,  0.37953236],\n",
       "       [ 1.        ,  1.        ,  1.        ,  1.        ,  1.        ,\n",
       "         0.05064034,  0.17588122,  0.69361514,  0.0871208 ,  0.42679502],\n",
       "       [ 1.        ,  1.        ,  1.        ,  1.        ,  1.        ,\n",
       "         0.18820537,  0.47770691,  0.17359486,  0.44418359,  0.98459391],\n",
       "       [ 1.        ,  1.        ,  1.        ,  1.        ,  1.        ,\n",
       "         0.02186293,  0.15398292,  0.95421168,  0.36673762,  0.66447167],\n",
       "       [ 1.        ,  1.        ,  1.        ,  1.        ,  1.        ,\n",
       "         0.67313907,  0.82621466,  0.293359  ,  0.69352977,  0.62530847],\n",
       "       [ 0.13705881,  0.16763394,  0.28288998,  0.75498399,  0.90298988,\n",
       "         0.18331038,  0.58621062,  0.63943287,  0.66850194,  0.92020274],\n",
       "       [ 0.64550369,  0.44955856,  0.76060619,  0.81470012,  0.18240608,\n",
       "         0.92118382,  0.98769002,  0.53597152,  0.12764747,  0.79844773],\n",
       "       [ 0.2378347 ,  0.63080125,  0.20290636,  0.61391382,  0.58378483,\n",
       "         0.10076457,  0.92921049,  0.87897254,  0.92248554,  0.44791581],\n",
       "       [ 0.60895721,  0.29020185,  0.76185342,  0.23928088,  0.61598167,\n",
       "         0.7149536 ,  0.10215677,  0.20441677,  0.15379646,  0.44080362],\n",
       "       [ 0.99901342,  0.88826912,  0.95150983,  0.81503405,  0.58415553,\n",
       "         0.06923142,  0.38865989,  0.2522284 ,  0.22497516,  0.7995263 ]])"
      ]
     },
     "execution_count": 179,
     "metadata": {},
     "output_type": "execute_result"
    }
   ],
   "source": [
    "a"
   ]
  },
  {
   "cell_type": "code",
   "execution_count": 180,
   "metadata": {
    "collapsed": true
   },
   "outputs": [],
   "source": [
    "va.disable()"
   ]
  },
  {
   "cell_type": "code",
   "execution_count": 181,
   "metadata": {
    "collapsed": true
   },
   "outputs": [],
   "source": [
    "ages = np.array([23,56,67,89,23,56,27,12,8,72])\n",
    "genders = np.array(['m','m','f','f','m','f','m','m','m','f'])"
   ]
  },
  {
   "cell_type": "code",
   "execution_count": 182,
   "metadata": {
    "collapsed": false
   },
   "outputs": [
    {
     "data": {
      "text/plain": [
       "array([False,  True,  True,  True, False,  True, False, False, False,  True], dtype=bool)"
      ]
     },
     "execution_count": 182,
     "metadata": {},
     "output_type": "execute_result"
    }
   ],
   "source": [
    "ages >30"
   ]
  },
  {
   "cell_type": "code",
   "execution_count": 183,
   "metadata": {
    "collapsed": false
   },
   "outputs": [
    {
     "data": {
      "text/plain": [
       "array([ True,  True, False, False,  True, False,  True,  True,  True, False], dtype=bool)"
      ]
     },
     "execution_count": 183,
     "metadata": {},
     "output_type": "execute_result"
    }
   ],
   "source": [
    "genders == 'm'"
   ]
  },
  {
   "cell_type": "code",
   "execution_count": 186,
   "metadata": {
    "collapsed": false
   },
   "outputs": [
    {
     "data": {
      "text/plain": [
       "array([ True, False, False, False,  True, False,  True,  True, False, False], dtype=bool)"
      ]
     },
     "execution_count": 186,
     "metadata": {},
     "output_type": "execute_result"
    }
   ],
   "source": [
    "(ages > 10) & (ages < 50)"
   ]
  },
  {
   "cell_type": "code",
   "execution_count": 187,
   "metadata": {
    "collapsed": false
   },
   "outputs": [
    {
     "data": {
      "text/plain": [
       "array([67, 89, 56, 72])"
      ]
     },
     "execution_count": 187,
     "metadata": {},
     "output_type": "execute_result"
    }
   ],
   "source": [
    "mask = (genders == 'f')\n",
    "ages[mask]\n"
   ]
  },
  {
   "cell_type": "code",
   "execution_count": 188,
   "metadata": {
    "collapsed": false
   },
   "outputs": [
    {
     "data": {
      "text/plain": [
       "array([56, 67, 89, 56, 72])"
      ]
     },
     "execution_count": 188,
     "metadata": {},
     "output_type": "execute_result"
    }
   ],
   "source": [
    "ages[ages>30]"
   ]
  },
  {
   "cell_type": "code",
   "execution_count": null,
   "metadata": {
    "collapsed": true
   },
   "outputs": [],
   "source": []
  }
 ],
 "metadata": {
  "kernelspec": {
   "display_name": "Python 2",
   "language": "python",
   "name": "python2"
  },
  "language_info": {
   "codemirror_mode": {
    "name": "ipython",
    "version": 2
   },
   "file_extension": ".py",
   "mimetype": "text/x-python",
   "name": "python",
   "nbconvert_exporter": "python",
   "pygments_lexer": "ipython2",
   "version": "2.7.6"
  }
 },
 "nbformat": 4,
 "nbformat_minor": 0
}
