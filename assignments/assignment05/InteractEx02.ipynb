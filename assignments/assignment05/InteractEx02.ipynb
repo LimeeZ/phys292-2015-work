{
 "cells": [
  {
   "cell_type": "markdown",
   "metadata": {
    "nbgrader": {}
   },
   "source": [
    "# Interact Exercise 2"
   ]
  },
  {
   "cell_type": "markdown",
   "metadata": {
    "nbgrader": {}
   },
   "source": [
    "## Imports"
   ]
  },
  {
   "cell_type": "code",
   "execution_count": 107,
   "metadata": {
    "collapsed": true,
    "nbgrader": {}
   },
   "outputs": [],
   "source": [
    "%matplotlib inline\n",
    "from matplotlib import pyplot as plt\n",
    "import numpy as np"
   ]
  },
  {
   "cell_type": "code",
   "execution_count": 108,
   "metadata": {
    "collapsed": false,
    "nbgrader": {}
   },
   "outputs": [],
   "source": [
    "from IPython.html.widgets import interact, interactive, fixed\n",
    "from IPython.display import display"
   ]
  },
  {
   "cell_type": "markdown",
   "metadata": {
    "nbgrader": {}
   },
   "source": [
    "## Plotting with parameters"
   ]
  },
  {
   "cell_type": "markdown",
   "metadata": {
    "nbgrader": {}
   },
   "source": [
    "Write a `plot_sin1(a, b)` function that plots $sin(ax+b)$ over the interval $[0,4\\pi]$.\n",
    "\n",
    "* Customize your visualization to make it effective and beautiful.\n",
    "* Customize the box, grid, spines and ticks to match the requirements of this data.\n",
    "* Use enough points along the x-axis to get a smooth plot.\n",
    "* For the x-axis tick locations use integer multiples of $\\pi$.\n",
    "* For the x-axis tick labels use multiples of pi using LaTeX: `$3\\pi$`."
   ]
  },
  {
   "cell_type": "code",
   "execution_count": 155,
   "metadata": {
    "collapsed": false,
    "deletable": false,
    "nbgrader": {
     "checksum": "6cff4e8e53b15273846c3aecaea84a3d",
     "solution": true
    }
   },
   "outputs": [],
   "source": [
    "def plot_sin1(a,b):\n",
    "    x = np.arange(0,4*np.pi)\n",
    "    plt.plot(x, np.sin(a*x+b))\n",
    "    plt.xticks([0,np.pi, 2*np.pi, 3*np.pi, 4*np.pi],\n",
    "           ['$0$', r'$\\pi$', r'$2\\pi$', r'$3\\pi$', r'$4\\pi$'])\n",
    "    plt.title('Sine Function')\n",
    "    plt.xlabel('x')\n",
    "    plt.ylabel('y')\n",
    "    print(plot_sin1)\n",
    "               \n"
   ]
  },
  {
   "cell_type": "code",
   "execution_count": 142,
   "metadata": {
    "collapsed": false,
    "nbgrader": {}
   },
   "outputs": [
    {
     "name": "stdout",
     "output_type": "stream",
     "text": [
      "<function plot_sin1 at 0x7f8f3120c268>\n"
     ]
    },
    {
     "data": {
      "image/png": "[encoded data removed]",
      "text/plain": [
       "<matplotlib.figure.Figure at 0x7f8f313d24e0>"
      ]
     },
     "metadata": {},
     "output_type": "display_data"
    }
   ],
   "source": [
    "plot_sin1(5, 3.4);"
   ]
  },
  {
   "cell_type": "markdown",
   "metadata": {
    "nbgrader": {}
   },
   "source": [
    "Then use `interact` to create a user interface for exploring your function:\n",
    "\n",
    "* `a` should be a floating point slider over the interval $[0.0,5.0]$ with steps of $0.1$.\n",
    "* `b` should be a floating point slider over the interval $[-5.0,5.0]$ with steps of $0.1$."
   ]
  },
  {
   "cell_type": "code",
   "execution_count": 143,
   "metadata": {
    "collapsed": false,
    "deletable": false,
    "nbgrader": {
     "checksum": "6cff4e8e53b15273846c3aecaea84a3d",
     "solution": true
    }
   },
   "outputs": [
    {
     "name": "stdout",
     "output_type": "stream",
     "text": [
      "<function plot_sin1 at 0x7f8f3120c268>\n"
     ]
    },
    {
     "data": {
      "text/plain": [
       "<function __main__.plot_sin1>"
      ]
     },
     "execution_count": 143,
     "metadata": {},
     "output_type": "execute_result"
    },
    {
     "data": {
      "image/png": "[encoded data removed]",
      "text/plain": [
       "<matplotlib.figure.Figure at 0x7f8f312516d8>"
      ]
     },
     "metadata": {},
     "output_type": "display_data"
    }
   ],
   "source": [
    "interact(plot_sin1, a = [0.,5.,0.1], b = [-5.,5.,0.1])"
   ]
  },
  {
   "cell_type": "code",
   "execution_count": 69,
   "metadata": {
    "collapsed": true,
    "deletable": false,
    "nbgrader": {
     "checksum": "34fd6e6d0531e41d800dbb79a2fb2f07",
     "grade": true,
     "grade_id": "interactex02a",
     "points": 5
    }
   },
   "outputs": [],
   "source": [
    "assert True # leave this for grading the plot_sine1 exercise"
   ]
  },
  {
   "cell_type": "markdown",
   "metadata": {
    "nbgrader": {}
   },
   "source": [
    "In matplotlib, the line style and color can be set with a third argument to `plot`. Examples of this argument:\n",
    "\n",
    "* dashed red: `r--`\n",
    "* blue circles: `bo`\n",
    "* dotted black: `k.`\n",
    "\n",
    "Write a `plot_sine2(a, b, style)` function that has a third `style` argument that allows you to set the line style of the plot. The style should default to a blue line."
   ]
  },
  {
   "cell_type": "code",
   "execution_count": 167,
   "metadata": {
    "collapsed": false,
    "deletable": false,
    "nbgrader": {
     "checksum": "6cff4e8e53b15273846c3aecaea84a3d",
     "solution": true
    }
   },
   "outputs": [],
   "source": [
    "def plot_sine2(a,b, style):\n",
    "    x = np.arange(0,4*np.pi)\n",
    "    plt.plot(x, np.sin(a*x+b), style)\n",
    "    plt.xticks([0,np.pi, 2*np.pi, 3*np.pi, 4*np.pi],\n",
    "               ['$0$', r'$\\pi$', r'$2\\pi$', r'$3\\pi$', r'$4\\pi$'])\n",
    "    plt.title('Sine Function')\n",
    "    plt.xlabel('x')\n",
    "    plt.ylabel('y')\n",
    "    style = style\n",
    "    print(plot_sine2)"
   ]
  },
  {
   "cell_type": "code",
   "execution_count": 170,
   "metadata": {
    "collapsed": false,
    "nbgrader": {},
    "scrolled": true
   },
   "outputs": [
    {
     "name": "stdout",
     "output_type": "stream",
     "text": [
      "<function plot_sine2 at 0x7f8f3160dc80>\n"
     ]
    },
    {
     "data": {
      "image/png": "[encoded data removed]",
      "text/plain": [
       "<matplotlib.figure.Figure at 0x7f8f4c2e4518>"
      ]
     },
     "metadata": {},
     "output_type": "display_data"
    }
   ],
   "source": [
    "plot_sine2(4.0, -1.0, 'r--')"
   ]
  },
  {
   "cell_type": "markdown",
   "metadata": {
    "nbgrader": {}
   },
   "source": [
    "Use `interact` to create a UI for `plot_sine2`.\n",
    "\n",
    "* Use a slider for `a` and `b` as above.\n",
    "* Use a drop down menu for selecting the line style between a **dotted blue line** line, **black circles** and **red triangles**."
   ]
  },
  {
   "cell_type": "code",
   "execution_count": 177,
   "metadata": {
    "collapsed": false,
    "deletable": false,
    "nbgrader": {
     "checksum": "6cff4e8e53b15273846c3aecaea84a3d",
     "grade": false,
     "solution": true
    }
   },
   "outputs": [
    {
     "name": "stdout",
     "output_type": "stream",
     "text": [
      "<function plot_sine2 at 0x7f8f3160dc80>\n"
     ]
    },
    {
     "data": {
      "image/png": "[encoded data removed]",
      "text/plain": [
       "<matplotlib.figure.Figure at 0x7f8f311ed908>"
      ]
     },
     "metadata": {},
     "output_type": "display_data"
    }
   ],
   "source": [
    "interact(plot_sine2, a = [0.,5.,0.1], b = [-5.,5.,0.1], \n",
    "         style=('b.', 'ko', 'r^'))\n"
   ]
  },
  {
   "cell_type": "code",
   "execution_count": 176,
   "metadata": {
    "collapsed": true,
    "deletable": false,
    "nbgrader": {
     "checksum": "8a9405487572cae2c04a71152be8bc93",
     "grade": true,
     "grade_id": "interactex02b",
     "points": 5
    }
   },
   "outputs": [],
   "source": [
    "assert True # leave this for grading the plot_sine2 exercise"
   ]
  },
  {
   "cell_type": "code",
   "execution_count": null,
   "metadata": {
    "collapsed": true
   },
   "outputs": [],
   "source": []
  }
 ],
 "metadata": {
  "kernelspec": {
   "display_name": "Python 3",
   "language": "python",
   "name": "python3"
  },
  "language_info": {
   "codemirror_mode": {
    "name": "ipython",
    "version": 3
   },
   "file_extension": ".py",
   "mimetype": "text/x-python",
   "name": "python",
   "nbconvert_exporter": "python",
   "pygments_lexer": "ipython3",
   "version": "3.4.0"
  }
 },
 "nbformat": 4,
 "nbformat_minor": 0
}
