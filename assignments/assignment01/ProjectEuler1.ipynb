{
 "cells": [
  {
   "cell_type": "markdown",
   "metadata": {
    "nbgrader": {}
   },
   "source": [
    "# Project Euler: Problem 1"
   ]
  },
  {
   "cell_type": "markdown",
   "metadata": {
    "nbgrader": {}
   },
   "source": [
    "If we list all the natural numbers below 10 that are multiples of 3 or 5, we get 3, 5, 6 and 9. The sum of these multiples is 23.\n",
    "\n",
    "Find the sum of all the multiples of 3 or 5 below 1000."
   ]
  },
  {
   "cell_type": "code",
   "execution_count": 74,
   "metadata": {
    "collapsed": false,
    "deletable": false,
    "nbgrader": {
     "checksum": "6cff4e8e53b15273846c3aecaea84a3d",
     "solution": true
    },
    "scrolled": false
   },
   "outputs": [
    {
     "data": {
      "text/plain": [
       "233168"
      ]
     },
     "execution_count": 74,
     "metadata": {},
     "output_type": "execute_result"
    }
   ],
   "source": [
    "#For this problem, I mainly used this site: https://docs.python.org/3/library/functions.html#func-range\n",
    "#(For the functions that is).\n",
    "\n",
    "#Step 1: At first, I used x = range() without the set(), but then realized \n",
    "#there needs to be another function that makes the range\n",
    "#the data set for x. \n",
    "\n",
    "x = set(range(0, 1000,3))\n",
    "y = set(range(0,1000,5))\n",
    "\n",
    "#Step 2: Adding sets was not as simple as x+y. I used this website to figure out to use ().union()\n",
    "#Note: this is pretty sweet because there are no repeats within xysum.\n",
    "# https://docs.python.org/2/library/sets.html\n",
    "\n",
    "xysum = x.union(y)\n",
    "\n",
    "#Step 3: Checked xysum. In order to check for xysum, type it at the end.\n",
    "\n",
    "xysum\n",
    "\n",
    "#Step 4: I used a simple sum() function here. \n",
    "\n",
    "Answer = sum(xysum)\n",
    "\n",
    "#Step 5: Found the answer\n",
    "\n",
    "Answer\n",
    "\n",
    "\n"
   ]
  },
  {
   "cell_type": "code",
   "execution_count": null,
   "metadata": {
    "collapsed": true,
    "deletable": false,
    "nbgrader": {
     "checksum": "6e498cbe102f8b3c1bc4ebd777bcc952",
     "grade": true,
     "grade_id": "projecteuler1",
     "points": 10
    }
   },
   "outputs": [],
   "source": [
    "# This cell will be used for grading, leave it at the end of the notebook."
   ]
  },
  {
   "cell_type": "code",
   "execution_count": null,
   "metadata": {
    "collapsed": true
   },
   "outputs": [],
   "source": []
  }
 ],
 "metadata": {
  "kernelspec": {
   "display_name": "Python 3",
   "language": "python",
   "name": "python3"
  },
  "language_info": {
   "codemirror_mode": {
    "name": "ipython",
    "version": 3
   },
   "file_extension": ".py",
   "mimetype": "text/x-python",
   "name": "python",
   "nbconvert_exporter": "python",
   "pygments_lexer": "ipython3",
   "version": "3.4.0"
  }
 },
 "nbformat": 4,
 "nbformat_minor": 0
}
